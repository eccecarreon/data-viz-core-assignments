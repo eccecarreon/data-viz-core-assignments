{
 "cells": [
  {
   "cell_type": "markdown",
   "id": "29badbcb-5950-4f84-8200-23c14e095aec",
   "metadata": {},
   "source": [
    "**Preparing Time Series from Wide-Form Data (Core)**"
   ]
  },
  {
   "cell_type": "markdown",
   "id": "cf2f60d3-90ce-4df1-99ca-a1ab8e34068b",
   "metadata": {},
   "source": [
    "You will be working with Zillow's publicly available Zillow House Value Index (ZHVI)\n",
    "[https://www.zillow.com/research/data/](https://www.zillow.com/research/data/)\n",
    "\n",
    "* Specifically, you will be using the Home Value data set for:\n",
    "    * Data Type = \"ZHVI All Homes (SFR+Condo/Coop) - Time Series - Smoothed - Seasonally Adjusted\"\n",
    "    * Geography = \"City\"\n",
    "* We have already downloaded the file for you and uploaded it to Google Drive.\n",
    "    * Share URL: [https://drive.google.com/file/d/1O_g44QAfe3uVF-1heAC0BAeVDoWloVR-/view?usp=sharing](https://drive.google.com/file/d/1O_g44QAfe3uVF-1heAC0BAeVDoWloVR-/view?usp=sharing)\n",
    "    * Direct URL (for Pandas): [https://docs.google.com/spreadsheets/d/e/2PACX-1vQN3Ksa9szQuO4G1-msXWAp17KtVHQCBnuEieu_auu1wSiBf3-krHusIx5VBMkihxj-KZLBosDIGEyR/pub?output=csv](https://docs.google.com/spreadsheets/d/e/2PACX-1vQN3Ksa9szQuO4G1-msXWAp17KtVHQCBnuEieu_auu1wSiBf3-krHusIx5VBMkihxj-KZLBosDIGEyR/pub?output=csv)"
   ]
  },
  {
   "cell_type": "markdown",
   "id": "ebbde689-d773-4b37-97f3-2eace4a829e3",
   "metadata": {},
   "source": [
    "**Review: Previous Assignment**\n",
    "\n",
    "In a core assignment from last week (Preparing Time Series from Wide-Form Data (Core)), you worked with this dataset.\n",
    "\n",
    "* You filtered the data to keep only the 4 largest cities based on their \"SizeRank\"\n",
    "* You melted the wide-form data for the 4 largest cities into long-form time series with a datetime index.\n",
    "* You resampled the data to monthly frequency, grouped by City.\n",
    "* You performed EDA and answered some questions comparing the cities, including selecting the city that had the highest home value at the end of 2008 and the one that had the lowest value at the end of 2008."
   ]
  },
  {
   "cell_type": "markdown",
   "id": "fe0301a7-3292-467d-828c-c1b1e2b5d5df",
   "metadata": {},
   "source": [
    "# Task"
   ]
  },
  {
   "cell_type": "markdown",
   "id": "386adc0b-5273-48b6-9100-28e9574ee0a8",
   "metadata": {},
   "source": [
    "**Time Series Models for Home Values**\n",
    "\n",
    "Your overall goal is to forecast the home values for the city with the highest home value in 2008(New York) 6months into the future (beyond the dataset)."
   ]
  },
  {
   "cell_type": "markdown",
   "id": "d96265e6-0a12-4451-8559-a14e4980af6e",
   "metadata": {},
   "source": [
    "* Filter the dataset only to include values starting in 2018\n",
    "* Check for and address null values.\n",
    "* Decompose the Time series to detect seasonality and decide if your model should or should not have a seasonal component\n",
    "* Determine Time Series Model Orders\n",
    "    * Check the time series for stationarity.\n",
    "        * Determine the number of differencing needed to make the data stationary\n",
    "    * Check the ACF/PACF Plots of the differenced data to determine the orders\n",
    "* Split the time series into training and test data (Remember we want to predict 6 months, and our data has been resampled to monthly)\n",
    "* Fit a manual ARIMA/SARIMA model based on the orders determined during your exploration.\n",
    "    * Make forecasts with your model.\n",
    "    * Plot the forecasts versus the test data\n",
    "    * Obtain metrics for evaluation\n",
    "* Tune with pmdarima's auto_arima\n",
    "    * Fit a model on training data with the best parameters from auto_arima\n",
    "    * Obtain metrics for evaluation\n",
    "    * Make forecasts with the auto_arima model\n",
    "    * Plot the forecasts versus the test data\n",
    "* Select your final model\n",
    "* Make true future forecasts using the entire dataset (for dates beyond the entire ts).\n",
    "    * Calculate the predicted net change in home value for the forecasted period as both:\n",
    "        * Raw values for change in the final month in the forecast vs. the first month.\n",
    "        * Convert the raw delta into a percent change."
   ]
  },
  {
   "cell_type": "markdown",
   "id": "86f7c1cd-968f-4d0d-a3d4-9c7ab30d208d",
   "metadata": {},
   "source": [
    "**Answer the following questions in a Markdown cell**\n",
    "\n",
    "* What is the predicted home value in New York City 6 months into the future (beyond the dataset)?\n",
    "\n",
    "* What is the percent change in home values in New York City by the end of the 6-month forecast (beyond the dataset)?"
   ]
  },
  {
   "cell_type": "markdown",
   "id": "710c1302-ef63-40a5-b744-996732485d19",
   "metadata": {},
   "source": [
    "# Solution"
   ]
  },
  {
   "cell_type": "markdown",
   "id": "43a2f9ff-b41e-457a-8d0c-54ab9c56d984",
   "metadata": {
    "tags": []
   },
   "source": [
    "## Part 1 Prepare Time Series Wideform (Core)"
   ]
  },
  {
   "cell_type": "code",
   "execution_count": 1,
   "id": "7bf37e27-cdcc-4a63-826f-0957d3e716b4",
   "metadata": {
    "tags": []
   },
   "outputs": [],
   "source": [
    "# Import libraries\n",
    "import pandas as pd\n",
    "import numpy as np\n",
    "import matplotlib as mpl\n",
    "import matplotlib.pyplot as plt\n",
    "import seaborn as sns\n",
    "import os\n",
    "\n",
    "# Set random seed\n",
    "SEED = 321\n",
    "np.random.seed(SEED)"
   ]
  },
  {
   "cell_type": "code",
   "execution_count": 2,
   "id": "57b27b9a-98ef-4d9c-8ae1-329ad18a10e9",
   "metadata": {
    "tags": []
   },
   "outputs": [],
   "source": [
    "# Customization options\n",
    "# plt.style.use(['fivethirtyeight'])#'seaborn-talk'])#,\n",
    "plt.rcParams['figure.facecolor']='white'\n",
    "plt.rcParams['figure.figsize']=(12,4)\n",
    "#import tick customization tools\n",
    "import matplotlib.ticker as mticks\n",
    "import matplotlib.dates as mdates\n",
    "sns.set_context(\"talk\", font_scale=0.9)"
   ]
  },
  {
   "cell_type": "code",
   "execution_count": 3,
   "id": "459798b1-d14b-405a-abb5-2c36cd631872",
   "metadata": {
    "tags": []
   },
   "outputs": [],
   "source": [
    "def format_xdates(ax, fig=None, xtick_fontweight='bold',\n",
    "               title= None):\n",
    "    \"\"\"Formats x-axis with minor ticks every 3 months, and major \n",
    "    ticks every year. Includes different grid options for visibility\"\"\"\n",
    "    # create the locator to place ticks every 3 months.\n",
    "    loc_3months = mdates.MonthLocator(interval=3)\n",
    "    fmt_months = mdates.DateFormatter(\"%b\")\n",
    "    ## for major year ticks\n",
    "    loc_year = mdates.YearLocator()\n",
    "    fmt_year = mdates.DateFormatter(\"%Y\")\n",
    "    \n",
    "    ## Change the font of the major ticks to stand out\n",
    "    ax.set_xticks(ax.get_xticks())\n",
    "    ax.set_xticklabels(ax.get_xticklabels(), \n",
    "                       fontweight=xtick_fontweight) \n",
    "    \n",
    "    ## customize minor ticks\n",
    "    ax.xaxis.set_minor_locator(loc_3months)\n",
    "    ax.xaxis.set_minor_formatter(fmt_months)\n",
    "    ## customize major ticks\n",
    "    ax.xaxis.set_major_locator(loc_year)\n",
    "    ax.xaxis.set_major_formatter(fmt_year)\n",
    "    ## Making major/minor gridlines visually distince\n",
    "    ax.grid(which='minor',axis='x',ls=\":\")\n",
    "    ax.grid(which='major',axis='x',color='k')\n",
    "    if fig is None:\n",
    "        fig = ax.get_figure()\n",
    "    ## rotate the dates\n",
    "    fig.autofmt_xdate(which='major',rotation=90,ha='center')\n",
    "    return fig,ax"
   ]
  },
  {
   "cell_type": "code",
   "execution_count": 4,
   "id": "b68e2eb7-2462-4f49-b682-35788f846401",
   "metadata": {
    "tags": []
   },
   "outputs": [
    {
     "data": {
      "text/html": [
       "<div>\n",
       "<style scoped>\n",
       "    .dataframe tbody tr th:only-of-type {\n",
       "        vertical-align: middle;\n",
       "    }\n",
       "\n",
       "    .dataframe tbody tr th {\n",
       "        vertical-align: top;\n",
       "    }\n",
       "\n",
       "    .dataframe thead th {\n",
       "        text-align: right;\n",
       "    }\n",
       "</style>\n",
       "<table border=\"1\" class=\"dataframe\">\n",
       "  <thead>\n",
       "    <tr style=\"text-align: right;\">\n",
       "      <th></th>\n",
       "      <th>RegionID</th>\n",
       "      <th>SizeRank</th>\n",
       "      <th>RegionName</th>\n",
       "      <th>RegionType</th>\n",
       "      <th>StateName</th>\n",
       "      <th>State</th>\n",
       "      <th>Metro</th>\n",
       "      <th>CountyName</th>\n",
       "      <th>2000-01-31</th>\n",
       "      <th>2000-02-29</th>\n",
       "      <th>...</th>\n",
       "      <th>2021-12-31</th>\n",
       "      <th>2022-01-31</th>\n",
       "      <th>2022-02-28</th>\n",
       "      <th>2022-03-31</th>\n",
       "      <th>2022-04-30</th>\n",
       "      <th>2022-05-31</th>\n",
       "      <th>2022-06-30</th>\n",
       "      <th>2022-07-31</th>\n",
       "      <th>2022-08-31</th>\n",
       "      <th>2022-09-30</th>\n",
       "    </tr>\n",
       "  </thead>\n",
       "  <tbody>\n",
       "    <tr>\n",
       "      <th>0</th>\n",
       "      <td>6181</td>\n",
       "      <td>0</td>\n",
       "      <td>New York</td>\n",
       "      <td>city</td>\n",
       "      <td>NY</td>\n",
       "      <td>NY</td>\n",
       "      <td>New York-Newark-Jersey City, NY-NJ-PA</td>\n",
       "      <td>Queens County</td>\n",
       "      <td>253690.0</td>\n",
       "      <td>255517.0</td>\n",
       "      <td>...</td>\n",
       "      <td>741586.0</td>\n",
       "      <td>745686.0</td>\n",
       "      <td>750578.0</td>\n",
       "      <td>756734.0</td>\n",
       "      <td>762321.0</td>\n",
       "      <td>768797.0</td>\n",
       "      <td>773944.0</td>\n",
       "      <td>777692.0</td>\n",
       "      <td>779960.0</td>\n",
       "      <td>781622.0</td>\n",
       "    </tr>\n",
       "    <tr>\n",
       "      <th>1</th>\n",
       "      <td>12447</td>\n",
       "      <td>1</td>\n",
       "      <td>Los Angeles</td>\n",
       "      <td>city</td>\n",
       "      <td>CA</td>\n",
       "      <td>CA</td>\n",
       "      <td>Los Angeles-Long Beach-Anaheim, CA</td>\n",
       "      <td>Los Angeles County</td>\n",
       "      <td>234181.0</td>\n",
       "      <td>234401.0</td>\n",
       "      <td>...</td>\n",
       "      <td>924019.0</td>\n",
       "      <td>928991.0</td>\n",
       "      <td>937936.0</td>\n",
       "      <td>953874.0</td>\n",
       "      <td>973168.0</td>\n",
       "      <td>990391.0</td>\n",
       "      <td>992337.0</td>\n",
       "      <td>992630.0</td>\n",
       "      <td>978196.0</td>\n",
       "      <td>966595.0</td>\n",
       "    </tr>\n",
       "    <tr>\n",
       "      <th>2</th>\n",
       "      <td>39051</td>\n",
       "      <td>2</td>\n",
       "      <td>Houston</td>\n",
       "      <td>city</td>\n",
       "      <td>TX</td>\n",
       "      <td>TX</td>\n",
       "      <td>Houston-The Woodlands-Sugar Land, TX</td>\n",
       "      <td>Harris County</td>\n",
       "      <td>109068.0</td>\n",
       "      <td>109079.0</td>\n",
       "      <td>...</td>\n",
       "      <td>245783.0</td>\n",
       "      <td>248718.0</td>\n",
       "      <td>252080.0</td>\n",
       "      <td>256435.0</td>\n",
       "      <td>261101.0</td>\n",
       "      <td>265558.0</td>\n",
       "      <td>268901.0</td>\n",
       "      <td>271059.0</td>\n",
       "      <td>272400.0</td>\n",
       "      <td>272639.0</td>\n",
       "    </tr>\n",
       "    <tr>\n",
       "      <th>3</th>\n",
       "      <td>17426</td>\n",
       "      <td>3</td>\n",
       "      <td>Chicago</td>\n",
       "      <td>city</td>\n",
       "      <td>IL</td>\n",
       "      <td>IL</td>\n",
       "      <td>Chicago-Naperville-Elgin, IL-IN-WI</td>\n",
       "      <td>Cook County</td>\n",
       "      <td>166139.0</td>\n",
       "      <td>166536.0</td>\n",
       "      <td>...</td>\n",
       "      <td>302821.0</td>\n",
       "      <td>305104.0</td>\n",
       "      <td>306404.0</td>\n",
       "      <td>308303.0</td>\n",
       "      <td>309649.0</td>\n",
       "      <td>312487.0</td>\n",
       "      <td>314663.0</td>\n",
       "      <td>315910.0</td>\n",
       "      <td>315587.0</td>\n",
       "      <td>315429.0</td>\n",
       "    </tr>\n",
       "    <tr>\n",
       "      <th>4</th>\n",
       "      <td>6915</td>\n",
       "      <td>4</td>\n",
       "      <td>San Antonio</td>\n",
       "      <td>city</td>\n",
       "      <td>TX</td>\n",
       "      <td>TX</td>\n",
       "      <td>San Antonio-New Braunfels, TX</td>\n",
       "      <td>Bexar County</td>\n",
       "      <td>114794.0</td>\n",
       "      <td>114975.0</td>\n",
       "      <td>...</td>\n",
       "      <td>269323.0</td>\n",
       "      <td>274032.0</td>\n",
       "      <td>278464.0</td>\n",
       "      <td>284127.0</td>\n",
       "      <td>289739.0</td>\n",
       "      <td>294776.0</td>\n",
       "      <td>297727.0</td>\n",
       "      <td>298796.0</td>\n",
       "      <td>299124.0</td>\n",
       "      <td>298951.0</td>\n",
       "    </tr>\n",
       "    <tr>\n",
       "      <th>...</th>\n",
       "      <td>...</td>\n",
       "      <td>...</td>\n",
       "      <td>...</td>\n",
       "      <td>...</td>\n",
       "      <td>...</td>\n",
       "      <td>...</td>\n",
       "      <td>...</td>\n",
       "      <td>...</td>\n",
       "      <td>...</td>\n",
       "      <td>...</td>\n",
       "      <td>...</td>\n",
       "      <td>...</td>\n",
       "      <td>...</td>\n",
       "      <td>...</td>\n",
       "      <td>...</td>\n",
       "      <td>...</td>\n",
       "      <td>...</td>\n",
       "      <td>...</td>\n",
       "      <td>...</td>\n",
       "      <td>...</td>\n",
       "      <td>...</td>\n",
       "    </tr>\n",
       "    <tr>\n",
       "      <th>22462</th>\n",
       "      <td>236350</td>\n",
       "      <td>28439</td>\n",
       "      <td>Palisades</td>\n",
       "      <td>city</td>\n",
       "      <td>TX</td>\n",
       "      <td>TX</td>\n",
       "      <td>Amarillo, TX</td>\n",
       "      <td>Randall County</td>\n",
       "      <td>NaN</td>\n",
       "      <td>NaN</td>\n",
       "      <td>...</td>\n",
       "      <td>198490.0</td>\n",
       "      <td>198467.0</td>\n",
       "      <td>196420.0</td>\n",
       "      <td>192002.0</td>\n",
       "      <td>191634.0</td>\n",
       "      <td>189383.0</td>\n",
       "      <td>191134.0</td>\n",
       "      <td>191343.0</td>\n",
       "      <td>192384.0</td>\n",
       "      <td>192110.0</td>\n",
       "    </tr>\n",
       "    <tr>\n",
       "      <th>22463</th>\n",
       "      <td>40403</td>\n",
       "      <td>28439</td>\n",
       "      <td>Port Mansfield</td>\n",
       "      <td>city</td>\n",
       "      <td>TX</td>\n",
       "      <td>TX</td>\n",
       "      <td>Raymondville, TX</td>\n",
       "      <td>Willacy County</td>\n",
       "      <td>NaN</td>\n",
       "      <td>NaN</td>\n",
       "      <td>...</td>\n",
       "      <td>229251.0</td>\n",
       "      <td>232984.0</td>\n",
       "      <td>238245.0</td>\n",
       "      <td>240154.0</td>\n",
       "      <td>242470.0</td>\n",
       "      <td>243119.0</td>\n",
       "      <td>249098.0</td>\n",
       "      <td>255572.0</td>\n",
       "      <td>261910.0</td>\n",
       "      <td>264685.0</td>\n",
       "    </tr>\n",
       "    <tr>\n",
       "      <th>22464</th>\n",
       "      <td>54740</td>\n",
       "      <td>28439</td>\n",
       "      <td>Tribes Hill</td>\n",
       "      <td>city</td>\n",
       "      <td>NY</td>\n",
       "      <td>NY</td>\n",
       "      <td>Amsterdam, NY</td>\n",
       "      <td>Montgomery County</td>\n",
       "      <td>53380.0</td>\n",
       "      <td>53662.0</td>\n",
       "      <td>...</td>\n",
       "      <td>132490.0</td>\n",
       "      <td>134951.0</td>\n",
       "      <td>137470.0</td>\n",
       "      <td>137430.0</td>\n",
       "      <td>137413.0</td>\n",
       "      <td>137615.0</td>\n",
       "      <td>138908.0</td>\n",
       "      <td>140096.0</td>\n",
       "      <td>141573.0</td>\n",
       "      <td>142438.0</td>\n",
       "    </tr>\n",
       "    <tr>\n",
       "      <th>22465</th>\n",
       "      <td>249186</td>\n",
       "      <td>28439</td>\n",
       "      <td>Derby Center</td>\n",
       "      <td>city</td>\n",
       "      <td>VT</td>\n",
       "      <td>VT</td>\n",
       "      <td>NaN</td>\n",
       "      <td>Orleans County</td>\n",
       "      <td>NaN</td>\n",
       "      <td>NaN</td>\n",
       "      <td>...</td>\n",
       "      <td>NaN</td>\n",
       "      <td>NaN</td>\n",
       "      <td>NaN</td>\n",
       "      <td>NaN</td>\n",
       "      <td>NaN</td>\n",
       "      <td>NaN</td>\n",
       "      <td>258191.0</td>\n",
       "      <td>261607.0</td>\n",
       "      <td>264571.0</td>\n",
       "      <td>266255.0</td>\n",
       "    </tr>\n",
       "    <tr>\n",
       "      <th>22466</th>\n",
       "      <td>42575</td>\n",
       "      <td>28439</td>\n",
       "      <td>Quinwood</td>\n",
       "      <td>city</td>\n",
       "      <td>WV</td>\n",
       "      <td>WV</td>\n",
       "      <td>NaN</td>\n",
       "      <td>Greenbrier County</td>\n",
       "      <td>NaN</td>\n",
       "      <td>NaN</td>\n",
       "      <td>...</td>\n",
       "      <td>38005.0</td>\n",
       "      <td>38210.0</td>\n",
       "      <td>38186.0</td>\n",
       "      <td>38205.0</td>\n",
       "      <td>38308.0</td>\n",
       "      <td>38845.0</td>\n",
       "      <td>38847.0</td>\n",
       "      <td>39158.0</td>\n",
       "      <td>38956.0</td>\n",
       "      <td>40331.0</td>\n",
       "    </tr>\n",
       "  </tbody>\n",
       "</table>\n",
       "<p>22467 rows × 281 columns</p>\n",
       "</div>"
      ],
      "text/plain": [
       "       RegionID  SizeRank      RegionName RegionType StateName State  \\\n",
       "0          6181         0        New York       city        NY    NY   \n",
       "1         12447         1     Los Angeles       city        CA    CA   \n",
       "2         39051         2         Houston       city        TX    TX   \n",
       "3         17426         3         Chicago       city        IL    IL   \n",
       "4          6915         4     San Antonio       city        TX    TX   \n",
       "...         ...       ...             ...        ...       ...   ...   \n",
       "22462    236350     28439       Palisades       city        TX    TX   \n",
       "22463     40403     28439  Port Mansfield       city        TX    TX   \n",
       "22464     54740     28439     Tribes Hill       city        NY    NY   \n",
       "22465    249186     28439    Derby Center       city        VT    VT   \n",
       "22466     42575     28439        Quinwood       city        WV    WV   \n",
       "\n",
       "                                       Metro          CountyName  2000-01-31  \\\n",
       "0      New York-Newark-Jersey City, NY-NJ-PA       Queens County    253690.0   \n",
       "1         Los Angeles-Long Beach-Anaheim, CA  Los Angeles County    234181.0   \n",
       "2       Houston-The Woodlands-Sugar Land, TX       Harris County    109068.0   \n",
       "3         Chicago-Naperville-Elgin, IL-IN-WI         Cook County    166139.0   \n",
       "4              San Antonio-New Braunfels, TX        Bexar County    114794.0   \n",
       "...                                      ...                 ...         ...   \n",
       "22462                           Amarillo, TX      Randall County         NaN   \n",
       "22463                       Raymondville, TX      Willacy County         NaN   \n",
       "22464                          Amsterdam, NY   Montgomery County     53380.0   \n",
       "22465                                    NaN      Orleans County         NaN   \n",
       "22466                                    NaN   Greenbrier County         NaN   \n",
       "\n",
       "       2000-02-29  ...  2021-12-31  2022-01-31  2022-02-28  2022-03-31  \\\n",
       "0        255517.0  ...    741586.0    745686.0    750578.0    756734.0   \n",
       "1        234401.0  ...    924019.0    928991.0    937936.0    953874.0   \n",
       "2        109079.0  ...    245783.0    248718.0    252080.0    256435.0   \n",
       "3        166536.0  ...    302821.0    305104.0    306404.0    308303.0   \n",
       "4        114975.0  ...    269323.0    274032.0    278464.0    284127.0   \n",
       "...           ...  ...         ...         ...         ...         ...   \n",
       "22462         NaN  ...    198490.0    198467.0    196420.0    192002.0   \n",
       "22463         NaN  ...    229251.0    232984.0    238245.0    240154.0   \n",
       "22464     53662.0  ...    132490.0    134951.0    137470.0    137430.0   \n",
       "22465         NaN  ...         NaN         NaN         NaN         NaN   \n",
       "22466         NaN  ...     38005.0     38210.0     38186.0     38205.0   \n",
       "\n",
       "       2022-04-30  2022-05-31  2022-06-30  2022-07-31  2022-08-31  2022-09-30  \n",
       "0        762321.0    768797.0    773944.0    777692.0    779960.0    781622.0  \n",
       "1        973168.0    990391.0    992337.0    992630.0    978196.0    966595.0  \n",
       "2        261101.0    265558.0    268901.0    271059.0    272400.0    272639.0  \n",
       "3        309649.0    312487.0    314663.0    315910.0    315587.0    315429.0  \n",
       "4        289739.0    294776.0    297727.0    298796.0    299124.0    298951.0  \n",
       "...           ...         ...         ...         ...         ...         ...  \n",
       "22462    191634.0    189383.0    191134.0    191343.0    192384.0    192110.0  \n",
       "22463    242470.0    243119.0    249098.0    255572.0    261910.0    264685.0  \n",
       "22464    137413.0    137615.0    138908.0    140096.0    141573.0    142438.0  \n",
       "22465         NaN         NaN    258191.0    261607.0    264571.0    266255.0  \n",
       "22466     38308.0     38845.0     38847.0     39158.0     38956.0     40331.0  \n",
       "\n",
       "[22467 rows x 281 columns]"
      ]
     },
     "execution_count": 4,
     "metadata": {},
     "output_type": "execute_result"
    }
   ],
   "source": [
    "# Load the data\n",
    "url = \"https://docs.google.com/spreadsheets/d/e/2PACX-1vQN3Ksa9szQuO4G1-msXWAp17KtVHQCBnuEieu_auu1wSiBf3-krHusIx5VBMkihxj-KZLBosDIGEyR/pub?output=csv\"\n",
    "df = pd.read_csv(url)\n",
    "df"
   ]
  },
  {
   "cell_type": "code",
   "execution_count": 5,
   "id": "8785dd2e-6556-48e8-8647-8e178d6aa9ac",
   "metadata": {},
   "outputs": [],
   "source": [
    "    # * Filter the 4 largest cities into a new dataframe.\n",
    "    #     * Tip: the \"SizeRank\" column has already ranked the cities by size. The larger the city, the smaller the rank value.\n",
    "    #         * Therefore the 4 largest cities would have rank values of [0,1,2,3]\n",
    "    # So that's New York, Los Angeles, Houston, Chicago"
   ]
  },
  {
   "cell_type": "code",
   "execution_count": 6,
   "id": "6590cd5c-b6e9-43f2-af0d-78034bbf5ae7",
   "metadata": {
    "tags": []
   },
   "outputs": [
    {
     "data": {
      "text/html": [
       "<div>\n",
       "<style scoped>\n",
       "    .dataframe tbody tr th:only-of-type {\n",
       "        vertical-align: middle;\n",
       "    }\n",
       "\n",
       "    .dataframe tbody tr th {\n",
       "        vertical-align: top;\n",
       "    }\n",
       "\n",
       "    .dataframe thead th {\n",
       "        text-align: right;\n",
       "    }\n",
       "</style>\n",
       "<table border=\"1\" class=\"dataframe\">\n",
       "  <thead>\n",
       "    <tr style=\"text-align: right;\">\n",
       "      <th></th>\n",
       "      <th>RegionID</th>\n",
       "      <th>SizeRank</th>\n",
       "      <th>RegionName</th>\n",
       "      <th>RegionType</th>\n",
       "      <th>StateName</th>\n",
       "      <th>State</th>\n",
       "      <th>Metro</th>\n",
       "      <th>CountyName</th>\n",
       "      <th>2000-01-31</th>\n",
       "      <th>2000-02-29</th>\n",
       "      <th>...</th>\n",
       "      <th>2021-12-31</th>\n",
       "      <th>2022-01-31</th>\n",
       "      <th>2022-02-28</th>\n",
       "      <th>2022-03-31</th>\n",
       "      <th>2022-04-30</th>\n",
       "      <th>2022-05-31</th>\n",
       "      <th>2022-06-30</th>\n",
       "      <th>2022-07-31</th>\n",
       "      <th>2022-08-31</th>\n",
       "      <th>2022-09-30</th>\n",
       "    </tr>\n",
       "  </thead>\n",
       "  <tbody>\n",
       "    <tr>\n",
       "      <th>0</th>\n",
       "      <td>6181</td>\n",
       "      <td>0</td>\n",
       "      <td>New York</td>\n",
       "      <td>city</td>\n",
       "      <td>NY</td>\n",
       "      <td>NY</td>\n",
       "      <td>New York-Newark-Jersey City, NY-NJ-PA</td>\n",
       "      <td>Queens County</td>\n",
       "      <td>253690.0</td>\n",
       "      <td>255517.0</td>\n",
       "      <td>...</td>\n",
       "      <td>741586.0</td>\n",
       "      <td>745686.0</td>\n",
       "      <td>750578.0</td>\n",
       "      <td>756734.0</td>\n",
       "      <td>762321.0</td>\n",
       "      <td>768797.0</td>\n",
       "      <td>773944.0</td>\n",
       "      <td>777692.0</td>\n",
       "      <td>779960.0</td>\n",
       "      <td>781622.0</td>\n",
       "    </tr>\n",
       "    <tr>\n",
       "      <th>1</th>\n",
       "      <td>12447</td>\n",
       "      <td>1</td>\n",
       "      <td>Los Angeles</td>\n",
       "      <td>city</td>\n",
       "      <td>CA</td>\n",
       "      <td>CA</td>\n",
       "      <td>Los Angeles-Long Beach-Anaheim, CA</td>\n",
       "      <td>Los Angeles County</td>\n",
       "      <td>234181.0</td>\n",
       "      <td>234401.0</td>\n",
       "      <td>...</td>\n",
       "      <td>924019.0</td>\n",
       "      <td>928991.0</td>\n",
       "      <td>937936.0</td>\n",
       "      <td>953874.0</td>\n",
       "      <td>973168.0</td>\n",
       "      <td>990391.0</td>\n",
       "      <td>992337.0</td>\n",
       "      <td>992630.0</td>\n",
       "      <td>978196.0</td>\n",
       "      <td>966595.0</td>\n",
       "    </tr>\n",
       "    <tr>\n",
       "      <th>2</th>\n",
       "      <td>39051</td>\n",
       "      <td>2</td>\n",
       "      <td>Houston</td>\n",
       "      <td>city</td>\n",
       "      <td>TX</td>\n",
       "      <td>TX</td>\n",
       "      <td>Houston-The Woodlands-Sugar Land, TX</td>\n",
       "      <td>Harris County</td>\n",
       "      <td>109068.0</td>\n",
       "      <td>109079.0</td>\n",
       "      <td>...</td>\n",
       "      <td>245783.0</td>\n",
       "      <td>248718.0</td>\n",
       "      <td>252080.0</td>\n",
       "      <td>256435.0</td>\n",
       "      <td>261101.0</td>\n",
       "      <td>265558.0</td>\n",
       "      <td>268901.0</td>\n",
       "      <td>271059.0</td>\n",
       "      <td>272400.0</td>\n",
       "      <td>272639.0</td>\n",
       "    </tr>\n",
       "    <tr>\n",
       "      <th>3</th>\n",
       "      <td>17426</td>\n",
       "      <td>3</td>\n",
       "      <td>Chicago</td>\n",
       "      <td>city</td>\n",
       "      <td>IL</td>\n",
       "      <td>IL</td>\n",
       "      <td>Chicago-Naperville-Elgin, IL-IN-WI</td>\n",
       "      <td>Cook County</td>\n",
       "      <td>166139.0</td>\n",
       "      <td>166536.0</td>\n",
       "      <td>...</td>\n",
       "      <td>302821.0</td>\n",
       "      <td>305104.0</td>\n",
       "      <td>306404.0</td>\n",
       "      <td>308303.0</td>\n",
       "      <td>309649.0</td>\n",
       "      <td>312487.0</td>\n",
       "      <td>314663.0</td>\n",
       "      <td>315910.0</td>\n",
       "      <td>315587.0</td>\n",
       "      <td>315429.0</td>\n",
       "    </tr>\n",
       "  </tbody>\n",
       "</table>\n",
       "<p>4 rows × 281 columns</p>\n",
       "</div>"
      ],
      "text/plain": [
       "   RegionID  SizeRank   RegionName RegionType StateName State  \\\n",
       "0      6181         0     New York       city        NY    NY   \n",
       "1     12447         1  Los Angeles       city        CA    CA   \n",
       "2     39051         2      Houston       city        TX    TX   \n",
       "3     17426         3      Chicago       city        IL    IL   \n",
       "\n",
       "                                   Metro          CountyName  2000-01-31  \\\n",
       "0  New York-Newark-Jersey City, NY-NJ-PA       Queens County    253690.0   \n",
       "1     Los Angeles-Long Beach-Anaheim, CA  Los Angeles County    234181.0   \n",
       "2   Houston-The Woodlands-Sugar Land, TX       Harris County    109068.0   \n",
       "3     Chicago-Naperville-Elgin, IL-IN-WI         Cook County    166139.0   \n",
       "\n",
       "   2000-02-29  ...  2021-12-31  2022-01-31  2022-02-28  2022-03-31  \\\n",
       "0    255517.0  ...    741586.0    745686.0    750578.0    756734.0   \n",
       "1    234401.0  ...    924019.0    928991.0    937936.0    953874.0   \n",
       "2    109079.0  ...    245783.0    248718.0    252080.0    256435.0   \n",
       "3    166536.0  ...    302821.0    305104.0    306404.0    308303.0   \n",
       "\n",
       "   2022-04-30  2022-05-31  2022-06-30  2022-07-31  2022-08-31  2022-09-30  \n",
       "0    762321.0    768797.0    773944.0    777692.0    779960.0    781622.0  \n",
       "1    973168.0    990391.0    992337.0    992630.0    978196.0    966595.0  \n",
       "2    261101.0    265558.0    268901.0    271059.0    272400.0    272639.0  \n",
       "3    309649.0    312487.0    314663.0    315910.0    315587.0    315429.0  \n",
       "\n",
       "[4 rows x 281 columns]"
      ]
     },
     "execution_count": 6,
     "metadata": {},
     "output_type": "execute_result"
    }
   ],
   "source": [
    "df = df.loc[ df['SizeRank'] < 4 ]\n",
    "df"
   ]
  },
  {
   "cell_type": "code",
   "execution_count": 7,
   "id": "59fbbdad-fb5c-4679-9023-3a4302037327",
   "metadata": {
    "tags": []
   },
   "outputs": [
    {
     "data": {
      "text/plain": [
       "RegionID      0\n",
       "SizeRank      0\n",
       "RegionName    0\n",
       "RegionType    0\n",
       "StateName     0\n",
       "             ..\n",
       "2022-05-31    0\n",
       "2022-06-30    0\n",
       "2022-07-31    0\n",
       "2022-08-31    0\n",
       "2022-09-30    0\n",
       "Length: 281, dtype: int64"
      ]
     },
     "execution_count": 7,
     "metadata": {},
     "output_type": "execute_result"
    }
   ],
   "source": [
    "df.isna().sum()"
   ]
  },
  {
   "cell_type": "code",
   "execution_count": 8,
   "id": "56a26bce-dae8-4057-abbd-68c797b8833e",
   "metadata": {
    "tags": []
   },
   "outputs": [
    {
     "data": {
      "text/plain": [
       "Index(['regionid', 'sizerank', 'regionname', 'regiontype', 'statename',\n",
       "       'state', 'metro', 'countyname', '2000-01-31', '2000-02-29',\n",
       "       ...\n",
       "       '2021-12-31', '2022-01-31', '2022-02-28', '2022-03-31', '2022-04-30',\n",
       "       '2022-05-31', '2022-06-30', '2022-07-31', '2022-08-31', '2022-09-30'],\n",
       "      dtype='object', length=281)"
      ]
     },
     "execution_count": 8,
     "metadata": {},
     "output_type": "execute_result"
    }
   ],
   "source": [
    "# convert col names into lower()\n",
    "df.columns = df.columns.str.lower()\n",
    "df.columns"
   ]
  },
  {
   "cell_type": "code",
   "execution_count": 9,
   "id": "43dcd3ff-9012-4770-bb18-cccc41a25ff5",
   "metadata": {
    "tags": []
   },
   "outputs": [
    {
     "data": {
      "text/html": [
       "<div>\n",
       "<style scoped>\n",
       "    .dataframe tbody tr th:only-of-type {\n",
       "        vertical-align: middle;\n",
       "    }\n",
       "\n",
       "    .dataframe tbody tr th {\n",
       "        vertical-align: top;\n",
       "    }\n",
       "\n",
       "    .dataframe thead th {\n",
       "        text-align: right;\n",
       "    }\n",
       "</style>\n",
       "<table border=\"1\" class=\"dataframe\">\n",
       "  <thead>\n",
       "    <tr style=\"text-align: right;\">\n",
       "      <th></th>\n",
       "      <th>regionid</th>\n",
       "      <th>sizerank</th>\n",
       "      <th>regionname</th>\n",
       "      <th>regiontype</th>\n",
       "      <th>statename</th>\n",
       "      <th>state</th>\n",
       "      <th>metro</th>\n",
       "      <th>countyname</th>\n",
       "      <th>variable</th>\n",
       "      <th>value</th>\n",
       "    </tr>\n",
       "  </thead>\n",
       "  <tbody>\n",
       "    <tr>\n",
       "      <th>0</th>\n",
       "      <td>6181</td>\n",
       "      <td>0</td>\n",
       "      <td>New York</td>\n",
       "      <td>city</td>\n",
       "      <td>NY</td>\n",
       "      <td>NY</td>\n",
       "      <td>New York-Newark-Jersey City, NY-NJ-PA</td>\n",
       "      <td>Queens County</td>\n",
       "      <td>2000-01-31</td>\n",
       "      <td>253690.0</td>\n",
       "    </tr>\n",
       "    <tr>\n",
       "      <th>1</th>\n",
       "      <td>12447</td>\n",
       "      <td>1</td>\n",
       "      <td>Los Angeles</td>\n",
       "      <td>city</td>\n",
       "      <td>CA</td>\n",
       "      <td>CA</td>\n",
       "      <td>Los Angeles-Long Beach-Anaheim, CA</td>\n",
       "      <td>Los Angeles County</td>\n",
       "      <td>2000-01-31</td>\n",
       "      <td>234181.0</td>\n",
       "    </tr>\n",
       "    <tr>\n",
       "      <th>2</th>\n",
       "      <td>39051</td>\n",
       "      <td>2</td>\n",
       "      <td>Houston</td>\n",
       "      <td>city</td>\n",
       "      <td>TX</td>\n",
       "      <td>TX</td>\n",
       "      <td>Houston-The Woodlands-Sugar Land, TX</td>\n",
       "      <td>Harris County</td>\n",
       "      <td>2000-01-31</td>\n",
       "      <td>109068.0</td>\n",
       "    </tr>\n",
       "    <tr>\n",
       "      <th>3</th>\n",
       "      <td>17426</td>\n",
       "      <td>3</td>\n",
       "      <td>Chicago</td>\n",
       "      <td>city</td>\n",
       "      <td>IL</td>\n",
       "      <td>IL</td>\n",
       "      <td>Chicago-Naperville-Elgin, IL-IN-WI</td>\n",
       "      <td>Cook County</td>\n",
       "      <td>2000-01-31</td>\n",
       "      <td>166139.0</td>\n",
       "    </tr>\n",
       "    <tr>\n",
       "      <th>4</th>\n",
       "      <td>6181</td>\n",
       "      <td>0</td>\n",
       "      <td>New York</td>\n",
       "      <td>city</td>\n",
       "      <td>NY</td>\n",
       "      <td>NY</td>\n",
       "      <td>New York-Newark-Jersey City, NY-NJ-PA</td>\n",
       "      <td>Queens County</td>\n",
       "      <td>2000-02-29</td>\n",
       "      <td>255517.0</td>\n",
       "    </tr>\n",
       "    <tr>\n",
       "      <th>...</th>\n",
       "      <td>...</td>\n",
       "      <td>...</td>\n",
       "      <td>...</td>\n",
       "      <td>...</td>\n",
       "      <td>...</td>\n",
       "      <td>...</td>\n",
       "      <td>...</td>\n",
       "      <td>...</td>\n",
       "      <td>...</td>\n",
       "      <td>...</td>\n",
       "    </tr>\n",
       "    <tr>\n",
       "      <th>1087</th>\n",
       "      <td>17426</td>\n",
       "      <td>3</td>\n",
       "      <td>Chicago</td>\n",
       "      <td>city</td>\n",
       "      <td>IL</td>\n",
       "      <td>IL</td>\n",
       "      <td>Chicago-Naperville-Elgin, IL-IN-WI</td>\n",
       "      <td>Cook County</td>\n",
       "      <td>2022-08-31</td>\n",
       "      <td>315587.0</td>\n",
       "    </tr>\n",
       "    <tr>\n",
       "      <th>1088</th>\n",
       "      <td>6181</td>\n",
       "      <td>0</td>\n",
       "      <td>New York</td>\n",
       "      <td>city</td>\n",
       "      <td>NY</td>\n",
       "      <td>NY</td>\n",
       "      <td>New York-Newark-Jersey City, NY-NJ-PA</td>\n",
       "      <td>Queens County</td>\n",
       "      <td>2022-09-30</td>\n",
       "      <td>781622.0</td>\n",
       "    </tr>\n",
       "    <tr>\n",
       "      <th>1089</th>\n",
       "      <td>12447</td>\n",
       "      <td>1</td>\n",
       "      <td>Los Angeles</td>\n",
       "      <td>city</td>\n",
       "      <td>CA</td>\n",
       "      <td>CA</td>\n",
       "      <td>Los Angeles-Long Beach-Anaheim, CA</td>\n",
       "      <td>Los Angeles County</td>\n",
       "      <td>2022-09-30</td>\n",
       "      <td>966595.0</td>\n",
       "    </tr>\n",
       "    <tr>\n",
       "      <th>1090</th>\n",
       "      <td>39051</td>\n",
       "      <td>2</td>\n",
       "      <td>Houston</td>\n",
       "      <td>city</td>\n",
       "      <td>TX</td>\n",
       "      <td>TX</td>\n",
       "      <td>Houston-The Woodlands-Sugar Land, TX</td>\n",
       "      <td>Harris County</td>\n",
       "      <td>2022-09-30</td>\n",
       "      <td>272639.0</td>\n",
       "    </tr>\n",
       "    <tr>\n",
       "      <th>1091</th>\n",
       "      <td>17426</td>\n",
       "      <td>3</td>\n",
       "      <td>Chicago</td>\n",
       "      <td>city</td>\n",
       "      <td>IL</td>\n",
       "      <td>IL</td>\n",
       "      <td>Chicago-Naperville-Elgin, IL-IN-WI</td>\n",
       "      <td>Cook County</td>\n",
       "      <td>2022-09-30</td>\n",
       "      <td>315429.0</td>\n",
       "    </tr>\n",
       "  </tbody>\n",
       "</table>\n",
       "<p>1092 rows × 10 columns</p>\n",
       "</div>"
      ],
      "text/plain": [
       "      regionid  sizerank   regionname regiontype statename state  \\\n",
       "0         6181         0     New York       city        NY    NY   \n",
       "1        12447         1  Los Angeles       city        CA    CA   \n",
       "2        39051         2      Houston       city        TX    TX   \n",
       "3        17426         3      Chicago       city        IL    IL   \n",
       "4         6181         0     New York       city        NY    NY   \n",
       "...        ...       ...          ...        ...       ...   ...   \n",
       "1087     17426         3      Chicago       city        IL    IL   \n",
       "1088      6181         0     New York       city        NY    NY   \n",
       "1089     12447         1  Los Angeles       city        CA    CA   \n",
       "1090     39051         2      Houston       city        TX    TX   \n",
       "1091     17426         3      Chicago       city        IL    IL   \n",
       "\n",
       "                                      metro          countyname    variable  \\\n",
       "0     New York-Newark-Jersey City, NY-NJ-PA       Queens County  2000-01-31   \n",
       "1        Los Angeles-Long Beach-Anaheim, CA  Los Angeles County  2000-01-31   \n",
       "2      Houston-The Woodlands-Sugar Land, TX       Harris County  2000-01-31   \n",
       "3        Chicago-Naperville-Elgin, IL-IN-WI         Cook County  2000-01-31   \n",
       "4     New York-Newark-Jersey City, NY-NJ-PA       Queens County  2000-02-29   \n",
       "...                                     ...                 ...         ...   \n",
       "1087     Chicago-Naperville-Elgin, IL-IN-WI         Cook County  2022-08-31   \n",
       "1088  New York-Newark-Jersey City, NY-NJ-PA       Queens County  2022-09-30   \n",
       "1089     Los Angeles-Long Beach-Anaheim, CA  Los Angeles County  2022-09-30   \n",
       "1090   Houston-The Woodlands-Sugar Land, TX       Harris County  2022-09-30   \n",
       "1091     Chicago-Naperville-Elgin, IL-IN-WI         Cook County  2022-09-30   \n",
       "\n",
       "         value  \n",
       "0     253690.0  \n",
       "1     234181.0  \n",
       "2     109068.0  \n",
       "3     166139.0  \n",
       "4     255517.0  \n",
       "...        ...  \n",
       "1087  315587.0  \n",
       "1088  781622.0  \n",
       "1089  966595.0  \n",
       "1090  272639.0  \n",
       "1091  315429.0  \n",
       "\n",
       "[1092 rows x 10 columns]"
      ]
     },
     "execution_count": 9,
     "metadata": {},
     "output_type": "execute_result"
    }
   ],
   "source": [
    "melted = pd.melt(df, id_vars=['regionid', 'sizerank', 'regionname', 'regiontype', 'statename','state', 'metro', 'countyname'])\n",
    "melted"
   ]
  },
  {
   "cell_type": "code",
   "execution_count": 10,
   "id": "78dbd027-abca-4faa-81ce-5c9b480df558",
   "metadata": {},
   "outputs": [
    {
     "data": {
      "text/html": [
       "<div>\n",
       "<style scoped>\n",
       "    .dataframe tbody tr th:only-of-type {\n",
       "        vertical-align: middle;\n",
       "    }\n",
       "\n",
       "    .dataframe tbody tr th {\n",
       "        vertical-align: top;\n",
       "    }\n",
       "\n",
       "    .dataframe thead th {\n",
       "        text-align: right;\n",
       "    }\n",
       "</style>\n",
       "<table border=\"1\" class=\"dataframe\">\n",
       "  <thead>\n",
       "    <tr style=\"text-align: right;\">\n",
       "      <th></th>\n",
       "      <th>regionid</th>\n",
       "      <th>sizerank</th>\n",
       "      <th>regionname</th>\n",
       "      <th>regiontype</th>\n",
       "      <th>statename</th>\n",
       "      <th>state</th>\n",
       "      <th>metro</th>\n",
       "      <th>countyname</th>\n",
       "      <th>date</th>\n",
       "      <th>value</th>\n",
       "    </tr>\n",
       "  </thead>\n",
       "  <tbody>\n",
       "    <tr>\n",
       "      <th>0</th>\n",
       "      <td>6181</td>\n",
       "      <td>0</td>\n",
       "      <td>New York</td>\n",
       "      <td>city</td>\n",
       "      <td>NY</td>\n",
       "      <td>NY</td>\n",
       "      <td>New York-Newark-Jersey City, NY-NJ-PA</td>\n",
       "      <td>Queens County</td>\n",
       "      <td>2000-01-31</td>\n",
       "      <td>253690.0</td>\n",
       "    </tr>\n",
       "    <tr>\n",
       "      <th>1</th>\n",
       "      <td>12447</td>\n",
       "      <td>1</td>\n",
       "      <td>Los Angeles</td>\n",
       "      <td>city</td>\n",
       "      <td>CA</td>\n",
       "      <td>CA</td>\n",
       "      <td>Los Angeles-Long Beach-Anaheim, CA</td>\n",
       "      <td>Los Angeles County</td>\n",
       "      <td>2000-01-31</td>\n",
       "      <td>234181.0</td>\n",
       "    </tr>\n",
       "    <tr>\n",
       "      <th>2</th>\n",
       "      <td>39051</td>\n",
       "      <td>2</td>\n",
       "      <td>Houston</td>\n",
       "      <td>city</td>\n",
       "      <td>TX</td>\n",
       "      <td>TX</td>\n",
       "      <td>Houston-The Woodlands-Sugar Land, TX</td>\n",
       "      <td>Harris County</td>\n",
       "      <td>2000-01-31</td>\n",
       "      <td>109068.0</td>\n",
       "    </tr>\n",
       "    <tr>\n",
       "      <th>3</th>\n",
       "      <td>17426</td>\n",
       "      <td>3</td>\n",
       "      <td>Chicago</td>\n",
       "      <td>city</td>\n",
       "      <td>IL</td>\n",
       "      <td>IL</td>\n",
       "      <td>Chicago-Naperville-Elgin, IL-IN-WI</td>\n",
       "      <td>Cook County</td>\n",
       "      <td>2000-01-31</td>\n",
       "      <td>166139.0</td>\n",
       "    </tr>\n",
       "    <tr>\n",
       "      <th>4</th>\n",
       "      <td>6181</td>\n",
       "      <td>0</td>\n",
       "      <td>New York</td>\n",
       "      <td>city</td>\n",
       "      <td>NY</td>\n",
       "      <td>NY</td>\n",
       "      <td>New York-Newark-Jersey City, NY-NJ-PA</td>\n",
       "      <td>Queens County</td>\n",
       "      <td>2000-02-29</td>\n",
       "      <td>255517.0</td>\n",
       "    </tr>\n",
       "    <tr>\n",
       "      <th>...</th>\n",
       "      <td>...</td>\n",
       "      <td>...</td>\n",
       "      <td>...</td>\n",
       "      <td>...</td>\n",
       "      <td>...</td>\n",
       "      <td>...</td>\n",
       "      <td>...</td>\n",
       "      <td>...</td>\n",
       "      <td>...</td>\n",
       "      <td>...</td>\n",
       "    </tr>\n",
       "    <tr>\n",
       "      <th>1087</th>\n",
       "      <td>17426</td>\n",
       "      <td>3</td>\n",
       "      <td>Chicago</td>\n",
       "      <td>city</td>\n",
       "      <td>IL</td>\n",
       "      <td>IL</td>\n",
       "      <td>Chicago-Naperville-Elgin, IL-IN-WI</td>\n",
       "      <td>Cook County</td>\n",
       "      <td>2022-08-31</td>\n",
       "      <td>315587.0</td>\n",
       "    </tr>\n",
       "    <tr>\n",
       "      <th>1088</th>\n",
       "      <td>6181</td>\n",
       "      <td>0</td>\n",
       "      <td>New York</td>\n",
       "      <td>city</td>\n",
       "      <td>NY</td>\n",
       "      <td>NY</td>\n",
       "      <td>New York-Newark-Jersey City, NY-NJ-PA</td>\n",
       "      <td>Queens County</td>\n",
       "      <td>2022-09-30</td>\n",
       "      <td>781622.0</td>\n",
       "    </tr>\n",
       "    <tr>\n",
       "      <th>1089</th>\n",
       "      <td>12447</td>\n",
       "      <td>1</td>\n",
       "      <td>Los Angeles</td>\n",
       "      <td>city</td>\n",
       "      <td>CA</td>\n",
       "      <td>CA</td>\n",
       "      <td>Los Angeles-Long Beach-Anaheim, CA</td>\n",
       "      <td>Los Angeles County</td>\n",
       "      <td>2022-09-30</td>\n",
       "      <td>966595.0</td>\n",
       "    </tr>\n",
       "    <tr>\n",
       "      <th>1090</th>\n",
       "      <td>39051</td>\n",
       "      <td>2</td>\n",
       "      <td>Houston</td>\n",
       "      <td>city</td>\n",
       "      <td>TX</td>\n",
       "      <td>TX</td>\n",
       "      <td>Houston-The Woodlands-Sugar Land, TX</td>\n",
       "      <td>Harris County</td>\n",
       "      <td>2022-09-30</td>\n",
       "      <td>272639.0</td>\n",
       "    </tr>\n",
       "    <tr>\n",
       "      <th>1091</th>\n",
       "      <td>17426</td>\n",
       "      <td>3</td>\n",
       "      <td>Chicago</td>\n",
       "      <td>city</td>\n",
       "      <td>IL</td>\n",
       "      <td>IL</td>\n",
       "      <td>Chicago-Naperville-Elgin, IL-IN-WI</td>\n",
       "      <td>Cook County</td>\n",
       "      <td>2022-09-30</td>\n",
       "      <td>315429.0</td>\n",
       "    </tr>\n",
       "  </tbody>\n",
       "</table>\n",
       "<p>1092 rows × 10 columns</p>\n",
       "</div>"
      ],
      "text/plain": [
       "      regionid  sizerank   regionname regiontype statename state  \\\n",
       "0         6181         0     New York       city        NY    NY   \n",
       "1        12447         1  Los Angeles       city        CA    CA   \n",
       "2        39051         2      Houston       city        TX    TX   \n",
       "3        17426         3      Chicago       city        IL    IL   \n",
       "4         6181         0     New York       city        NY    NY   \n",
       "...        ...       ...          ...        ...       ...   ...   \n",
       "1087     17426         3      Chicago       city        IL    IL   \n",
       "1088      6181         0     New York       city        NY    NY   \n",
       "1089     12447         1  Los Angeles       city        CA    CA   \n",
       "1090     39051         2      Houston       city        TX    TX   \n",
       "1091     17426         3      Chicago       city        IL    IL   \n",
       "\n",
       "                                      metro          countyname        date  \\\n",
       "0     New York-Newark-Jersey City, NY-NJ-PA       Queens County  2000-01-31   \n",
       "1        Los Angeles-Long Beach-Anaheim, CA  Los Angeles County  2000-01-31   \n",
       "2      Houston-The Woodlands-Sugar Land, TX       Harris County  2000-01-31   \n",
       "3        Chicago-Naperville-Elgin, IL-IN-WI         Cook County  2000-01-31   \n",
       "4     New York-Newark-Jersey City, NY-NJ-PA       Queens County  2000-02-29   \n",
       "...                                     ...                 ...         ...   \n",
       "1087     Chicago-Naperville-Elgin, IL-IN-WI         Cook County  2022-08-31   \n",
       "1088  New York-Newark-Jersey City, NY-NJ-PA       Queens County  2022-09-30   \n",
       "1089     Los Angeles-Long Beach-Anaheim, CA  Los Angeles County  2022-09-30   \n",
       "1090   Houston-The Woodlands-Sugar Land, TX       Harris County  2022-09-30   \n",
       "1091     Chicago-Naperville-Elgin, IL-IN-WI         Cook County  2022-09-30   \n",
       "\n",
       "         value  \n",
       "0     253690.0  \n",
       "1     234181.0  \n",
       "2     109068.0  \n",
       "3     166139.0  \n",
       "4     255517.0  \n",
       "...        ...  \n",
       "1087  315587.0  \n",
       "1088  781622.0  \n",
       "1089  966595.0  \n",
       "1090  272639.0  \n",
       "1091  315429.0  \n",
       "\n",
       "[1092 rows x 10 columns]"
      ]
     },
     "execution_count": 10,
     "metadata": {},
     "output_type": "execute_result"
    }
   ],
   "source": [
    "melted = pd.melt(df, id_vars=['regionid', 'sizerank', 'regionname', 'regiontype', 'statename','state', 'metro', 'countyname'], var_name='date')\n",
    "melted"
   ]
  },
  {
   "cell_type": "code",
   "execution_count": 11,
   "id": "c0e64893-0714-419c-b5e4-8395392f9fe7",
   "metadata": {
    "tags": []
   },
   "outputs": [
    {
     "data": {
      "text/html": [
       "<div>\n",
       "<style scoped>\n",
       "    .dataframe tbody tr th:only-of-type {\n",
       "        vertical-align: middle;\n",
       "    }\n",
       "\n",
       "    .dataframe tbody tr th {\n",
       "        vertical-align: top;\n",
       "    }\n",
       "\n",
       "    .dataframe thead th {\n",
       "        text-align: right;\n",
       "    }\n",
       "</style>\n",
       "<table border=\"1\" class=\"dataframe\">\n",
       "  <thead>\n",
       "    <tr style=\"text-align: right;\">\n",
       "      <th></th>\n",
       "      <th>regionid</th>\n",
       "      <th>sizerank</th>\n",
       "      <th>regionname</th>\n",
       "      <th>regiontype</th>\n",
       "      <th>statename</th>\n",
       "      <th>state</th>\n",
       "      <th>metro</th>\n",
       "      <th>countyname</th>\n",
       "      <th>date</th>\n",
       "      <th>value</th>\n",
       "    </tr>\n",
       "  </thead>\n",
       "  <tbody>\n",
       "    <tr>\n",
       "      <th>0</th>\n",
       "      <td>6181</td>\n",
       "      <td>0</td>\n",
       "      <td>New York</td>\n",
       "      <td>city</td>\n",
       "      <td>NY</td>\n",
       "      <td>NY</td>\n",
       "      <td>New York-Newark-Jersey City, NY-NJ-PA</td>\n",
       "      <td>Queens County</td>\n",
       "      <td>2000-01-31</td>\n",
       "      <td>253690.0</td>\n",
       "    </tr>\n",
       "    <tr>\n",
       "      <th>1</th>\n",
       "      <td>12447</td>\n",
       "      <td>1</td>\n",
       "      <td>Los Angeles</td>\n",
       "      <td>city</td>\n",
       "      <td>CA</td>\n",
       "      <td>CA</td>\n",
       "      <td>Los Angeles-Long Beach-Anaheim, CA</td>\n",
       "      <td>Los Angeles County</td>\n",
       "      <td>2000-01-31</td>\n",
       "      <td>234181.0</td>\n",
       "    </tr>\n",
       "    <tr>\n",
       "      <th>2</th>\n",
       "      <td>39051</td>\n",
       "      <td>2</td>\n",
       "      <td>Houston</td>\n",
       "      <td>city</td>\n",
       "      <td>TX</td>\n",
       "      <td>TX</td>\n",
       "      <td>Houston-The Woodlands-Sugar Land, TX</td>\n",
       "      <td>Harris County</td>\n",
       "      <td>2000-01-31</td>\n",
       "      <td>109068.0</td>\n",
       "    </tr>\n",
       "    <tr>\n",
       "      <th>3</th>\n",
       "      <td>17426</td>\n",
       "      <td>3</td>\n",
       "      <td>Chicago</td>\n",
       "      <td>city</td>\n",
       "      <td>IL</td>\n",
       "      <td>IL</td>\n",
       "      <td>Chicago-Naperville-Elgin, IL-IN-WI</td>\n",
       "      <td>Cook County</td>\n",
       "      <td>2000-01-31</td>\n",
       "      <td>166139.0</td>\n",
       "    </tr>\n",
       "    <tr>\n",
       "      <th>4</th>\n",
       "      <td>6181</td>\n",
       "      <td>0</td>\n",
       "      <td>New York</td>\n",
       "      <td>city</td>\n",
       "      <td>NY</td>\n",
       "      <td>NY</td>\n",
       "      <td>New York-Newark-Jersey City, NY-NJ-PA</td>\n",
       "      <td>Queens County</td>\n",
       "      <td>2000-02-29</td>\n",
       "      <td>255517.0</td>\n",
       "    </tr>\n",
       "    <tr>\n",
       "      <th>...</th>\n",
       "      <td>...</td>\n",
       "      <td>...</td>\n",
       "      <td>...</td>\n",
       "      <td>...</td>\n",
       "      <td>...</td>\n",
       "      <td>...</td>\n",
       "      <td>...</td>\n",
       "      <td>...</td>\n",
       "      <td>...</td>\n",
       "      <td>...</td>\n",
       "    </tr>\n",
       "    <tr>\n",
       "      <th>1087</th>\n",
       "      <td>17426</td>\n",
       "      <td>3</td>\n",
       "      <td>Chicago</td>\n",
       "      <td>city</td>\n",
       "      <td>IL</td>\n",
       "      <td>IL</td>\n",
       "      <td>Chicago-Naperville-Elgin, IL-IN-WI</td>\n",
       "      <td>Cook County</td>\n",
       "      <td>2022-08-31</td>\n",
       "      <td>315587.0</td>\n",
       "    </tr>\n",
       "    <tr>\n",
       "      <th>1088</th>\n",
       "      <td>6181</td>\n",
       "      <td>0</td>\n",
       "      <td>New York</td>\n",
       "      <td>city</td>\n",
       "      <td>NY</td>\n",
       "      <td>NY</td>\n",
       "      <td>New York-Newark-Jersey City, NY-NJ-PA</td>\n",
       "      <td>Queens County</td>\n",
       "      <td>2022-09-30</td>\n",
       "      <td>781622.0</td>\n",
       "    </tr>\n",
       "    <tr>\n",
       "      <th>1089</th>\n",
       "      <td>12447</td>\n",
       "      <td>1</td>\n",
       "      <td>Los Angeles</td>\n",
       "      <td>city</td>\n",
       "      <td>CA</td>\n",
       "      <td>CA</td>\n",
       "      <td>Los Angeles-Long Beach-Anaheim, CA</td>\n",
       "      <td>Los Angeles County</td>\n",
       "      <td>2022-09-30</td>\n",
       "      <td>966595.0</td>\n",
       "    </tr>\n",
       "    <tr>\n",
       "      <th>1090</th>\n",
       "      <td>39051</td>\n",
       "      <td>2</td>\n",
       "      <td>Houston</td>\n",
       "      <td>city</td>\n",
       "      <td>TX</td>\n",
       "      <td>TX</td>\n",
       "      <td>Houston-The Woodlands-Sugar Land, TX</td>\n",
       "      <td>Harris County</td>\n",
       "      <td>2022-09-30</td>\n",
       "      <td>272639.0</td>\n",
       "    </tr>\n",
       "    <tr>\n",
       "      <th>1091</th>\n",
       "      <td>17426</td>\n",
       "      <td>3</td>\n",
       "      <td>Chicago</td>\n",
       "      <td>city</td>\n",
       "      <td>IL</td>\n",
       "      <td>IL</td>\n",
       "      <td>Chicago-Naperville-Elgin, IL-IN-WI</td>\n",
       "      <td>Cook County</td>\n",
       "      <td>2022-09-30</td>\n",
       "      <td>315429.0</td>\n",
       "    </tr>\n",
       "  </tbody>\n",
       "</table>\n",
       "<p>1092 rows × 10 columns</p>\n",
       "</div>"
      ],
      "text/plain": [
       "      regionid  sizerank   regionname regiontype statename state  \\\n",
       "0         6181         0     New York       city        NY    NY   \n",
       "1        12447         1  Los Angeles       city        CA    CA   \n",
       "2        39051         2      Houston       city        TX    TX   \n",
       "3        17426         3      Chicago       city        IL    IL   \n",
       "4         6181         0     New York       city        NY    NY   \n",
       "...        ...       ...          ...        ...       ...   ...   \n",
       "1087     17426         3      Chicago       city        IL    IL   \n",
       "1088      6181         0     New York       city        NY    NY   \n",
       "1089     12447         1  Los Angeles       city        CA    CA   \n",
       "1090     39051         2      Houston       city        TX    TX   \n",
       "1091     17426         3      Chicago       city        IL    IL   \n",
       "\n",
       "                                      metro          countyname       date  \\\n",
       "0     New York-Newark-Jersey City, NY-NJ-PA       Queens County 2000-01-31   \n",
       "1        Los Angeles-Long Beach-Anaheim, CA  Los Angeles County 2000-01-31   \n",
       "2      Houston-The Woodlands-Sugar Land, TX       Harris County 2000-01-31   \n",
       "3        Chicago-Naperville-Elgin, IL-IN-WI         Cook County 2000-01-31   \n",
       "4     New York-Newark-Jersey City, NY-NJ-PA       Queens County 2000-02-29   \n",
       "...                                     ...                 ...        ...   \n",
       "1087     Chicago-Naperville-Elgin, IL-IN-WI         Cook County 2022-08-31   \n",
       "1088  New York-Newark-Jersey City, NY-NJ-PA       Queens County 2022-09-30   \n",
       "1089     Los Angeles-Long Beach-Anaheim, CA  Los Angeles County 2022-09-30   \n",
       "1090   Houston-The Woodlands-Sugar Land, TX       Harris County 2022-09-30   \n",
       "1091     Chicago-Naperville-Elgin, IL-IN-WI         Cook County 2022-09-30   \n",
       "\n",
       "         value  \n",
       "0     253690.0  \n",
       "1     234181.0  \n",
       "2     109068.0  \n",
       "3     166139.0  \n",
       "4     255517.0  \n",
       "...        ...  \n",
       "1087  315587.0  \n",
       "1088  781622.0  \n",
       "1089  966595.0  \n",
       "1090  272639.0  \n",
       "1091  315429.0  \n",
       "\n",
       "[1092 rows x 10 columns]"
      ]
     },
     "execution_count": 11,
     "metadata": {},
     "output_type": "execute_result"
    }
   ],
   "source": [
    "# Convert the Date column to Datetime data type.\n",
    "melted['date'] = pd.to_datetime(melted['date'], format='%Y-%m-%d')\n",
    "melted"
   ]
  },
  {
   "cell_type": "code",
   "execution_count": 12,
   "id": "3581cf54-b126-434f-8d7d-55500cb4fa57",
   "metadata": {
    "tags": []
   },
   "outputs": [
    {
     "name": "stdout",
     "output_type": "stream",
     "text": [
      "<class 'pandas.core.frame.DataFrame'>\n",
      "RangeIndex: 1092 entries, 0 to 1091\n",
      "Data columns (total 10 columns):\n",
      " #   Column      Non-Null Count  Dtype         \n",
      "---  ------      --------------  -----         \n",
      " 0   regionid    1092 non-null   int64         \n",
      " 1   sizerank    1092 non-null   int64         \n",
      " 2   regionname  1092 non-null   object        \n",
      " 3   regiontype  1092 non-null   object        \n",
      " 4   statename   1092 non-null   object        \n",
      " 5   state       1092 non-null   object        \n",
      " 6   metro       1092 non-null   object        \n",
      " 7   countyname  1092 non-null   object        \n",
      " 8   date        1092 non-null   datetime64[ns]\n",
      " 9   value       1087 non-null   float64       \n",
      "dtypes: datetime64[ns](1), float64(1), int64(2), object(6)\n",
      "memory usage: 85.4+ KB\n"
     ]
    }
   ],
   "source": [
    "melted.info()"
   ]
  },
  {
   "cell_type": "code",
   "execution_count": 13,
   "id": "1d5bff42-6030-4284-b9ab-beb3732d655b",
   "metadata": {
    "tags": []
   },
   "outputs": [
    {
     "data": {
      "text/html": [
       "<div>\n",
       "<style scoped>\n",
       "    .dataframe tbody tr th:only-of-type {\n",
       "        vertical-align: middle;\n",
       "    }\n",
       "\n",
       "    .dataframe tbody tr th {\n",
       "        vertical-align: top;\n",
       "    }\n",
       "\n",
       "    .dataframe thead th {\n",
       "        text-align: right;\n",
       "    }\n",
       "</style>\n",
       "<table border=\"1\" class=\"dataframe\">\n",
       "  <thead>\n",
       "    <tr style=\"text-align: right;\">\n",
       "      <th></th>\n",
       "      <th>regionid</th>\n",
       "      <th>sizerank</th>\n",
       "      <th>regionname</th>\n",
       "      <th>regiontype</th>\n",
       "      <th>statename</th>\n",
       "      <th>state</th>\n",
       "      <th>metro</th>\n",
       "      <th>countyname</th>\n",
       "      <th>date</th>\n",
       "      <th>value</th>\n",
       "    </tr>\n",
       "  </thead>\n",
       "  <tbody>\n",
       "    <tr>\n",
       "      <th>0</th>\n",
       "      <td>6181</td>\n",
       "      <td>0</td>\n",
       "      <td>New York</td>\n",
       "      <td>city</td>\n",
       "      <td>NY</td>\n",
       "      <td>NY</td>\n",
       "      <td>New York-Newark-Jersey City, NY-NJ-PA</td>\n",
       "      <td>Queens County</td>\n",
       "      <td>2000-01-31</td>\n",
       "      <td>253690.0</td>\n",
       "    </tr>\n",
       "    <tr>\n",
       "      <th>1</th>\n",
       "      <td>12447</td>\n",
       "      <td>1</td>\n",
       "      <td>Los Angeles</td>\n",
       "      <td>city</td>\n",
       "      <td>CA</td>\n",
       "      <td>CA</td>\n",
       "      <td>Los Angeles-Long Beach-Anaheim, CA</td>\n",
       "      <td>Los Angeles County</td>\n",
       "      <td>2000-01-31</td>\n",
       "      <td>234181.0</td>\n",
       "    </tr>\n",
       "    <tr>\n",
       "      <th>2</th>\n",
       "      <td>39051</td>\n",
       "      <td>2</td>\n",
       "      <td>Houston</td>\n",
       "      <td>city</td>\n",
       "      <td>TX</td>\n",
       "      <td>TX</td>\n",
       "      <td>Houston-The Woodlands-Sugar Land, TX</td>\n",
       "      <td>Harris County</td>\n",
       "      <td>2000-01-31</td>\n",
       "      <td>109068.0</td>\n",
       "    </tr>\n",
       "    <tr>\n",
       "      <th>3</th>\n",
       "      <td>17426</td>\n",
       "      <td>3</td>\n",
       "      <td>Chicago</td>\n",
       "      <td>city</td>\n",
       "      <td>IL</td>\n",
       "      <td>IL</td>\n",
       "      <td>Chicago-Naperville-Elgin, IL-IN-WI</td>\n",
       "      <td>Cook County</td>\n",
       "      <td>2000-01-31</td>\n",
       "      <td>166139.0</td>\n",
       "    </tr>\n",
       "    <tr>\n",
       "      <th>4</th>\n",
       "      <td>6181</td>\n",
       "      <td>0</td>\n",
       "      <td>New York</td>\n",
       "      <td>city</td>\n",
       "      <td>NY</td>\n",
       "      <td>NY</td>\n",
       "      <td>New York-Newark-Jersey City, NY-NJ-PA</td>\n",
       "      <td>Queens County</td>\n",
       "      <td>2000-02-29</td>\n",
       "      <td>255517.0</td>\n",
       "    </tr>\n",
       "    <tr>\n",
       "      <th>...</th>\n",
       "      <td>...</td>\n",
       "      <td>...</td>\n",
       "      <td>...</td>\n",
       "      <td>...</td>\n",
       "      <td>...</td>\n",
       "      <td>...</td>\n",
       "      <td>...</td>\n",
       "      <td>...</td>\n",
       "      <td>...</td>\n",
       "      <td>...</td>\n",
       "    </tr>\n",
       "    <tr>\n",
       "      <th>1087</th>\n",
       "      <td>17426</td>\n",
       "      <td>3</td>\n",
       "      <td>Chicago</td>\n",
       "      <td>city</td>\n",
       "      <td>IL</td>\n",
       "      <td>IL</td>\n",
       "      <td>Chicago-Naperville-Elgin, IL-IN-WI</td>\n",
       "      <td>Cook County</td>\n",
       "      <td>2022-08-31</td>\n",
       "      <td>315587.0</td>\n",
       "    </tr>\n",
       "    <tr>\n",
       "      <th>1088</th>\n",
       "      <td>6181</td>\n",
       "      <td>0</td>\n",
       "      <td>New York</td>\n",
       "      <td>city</td>\n",
       "      <td>NY</td>\n",
       "      <td>NY</td>\n",
       "      <td>New York-Newark-Jersey City, NY-NJ-PA</td>\n",
       "      <td>Queens County</td>\n",
       "      <td>2022-09-30</td>\n",
       "      <td>781622.0</td>\n",
       "    </tr>\n",
       "    <tr>\n",
       "      <th>1089</th>\n",
       "      <td>12447</td>\n",
       "      <td>1</td>\n",
       "      <td>Los Angeles</td>\n",
       "      <td>city</td>\n",
       "      <td>CA</td>\n",
       "      <td>CA</td>\n",
       "      <td>Los Angeles-Long Beach-Anaheim, CA</td>\n",
       "      <td>Los Angeles County</td>\n",
       "      <td>2022-09-30</td>\n",
       "      <td>966595.0</td>\n",
       "    </tr>\n",
       "    <tr>\n",
       "      <th>1090</th>\n",
       "      <td>39051</td>\n",
       "      <td>2</td>\n",
       "      <td>Houston</td>\n",
       "      <td>city</td>\n",
       "      <td>TX</td>\n",
       "      <td>TX</td>\n",
       "      <td>Houston-The Woodlands-Sugar Land, TX</td>\n",
       "      <td>Harris County</td>\n",
       "      <td>2022-09-30</td>\n",
       "      <td>272639.0</td>\n",
       "    </tr>\n",
       "    <tr>\n",
       "      <th>1091</th>\n",
       "      <td>17426</td>\n",
       "      <td>3</td>\n",
       "      <td>Chicago</td>\n",
       "      <td>city</td>\n",
       "      <td>IL</td>\n",
       "      <td>IL</td>\n",
       "      <td>Chicago-Naperville-Elgin, IL-IN-WI</td>\n",
       "      <td>Cook County</td>\n",
       "      <td>2022-09-30</td>\n",
       "      <td>315429.0</td>\n",
       "    </tr>\n",
       "  </tbody>\n",
       "</table>\n",
       "<p>1092 rows × 10 columns</p>\n",
       "</div>"
      ],
      "text/plain": [
       "      regionid  sizerank   regionname regiontype statename state  \\\n",
       "0         6181         0     New York       city        NY    NY   \n",
       "1        12447         1  Los Angeles       city        CA    CA   \n",
       "2        39051         2      Houston       city        TX    TX   \n",
       "3        17426         3      Chicago       city        IL    IL   \n",
       "4         6181         0     New York       city        NY    NY   \n",
       "...        ...       ...          ...        ...       ...   ...   \n",
       "1087     17426         3      Chicago       city        IL    IL   \n",
       "1088      6181         0     New York       city        NY    NY   \n",
       "1089     12447         1  Los Angeles       city        CA    CA   \n",
       "1090     39051         2      Houston       city        TX    TX   \n",
       "1091     17426         3      Chicago       city        IL    IL   \n",
       "\n",
       "                                      metro          countyname       date  \\\n",
       "0     New York-Newark-Jersey City, NY-NJ-PA       Queens County 2000-01-31   \n",
       "1        Los Angeles-Long Beach-Anaheim, CA  Los Angeles County 2000-01-31   \n",
       "2      Houston-The Woodlands-Sugar Land, TX       Harris County 2000-01-31   \n",
       "3        Chicago-Naperville-Elgin, IL-IN-WI         Cook County 2000-01-31   \n",
       "4     New York-Newark-Jersey City, NY-NJ-PA       Queens County 2000-02-29   \n",
       "...                                     ...                 ...        ...   \n",
       "1087     Chicago-Naperville-Elgin, IL-IN-WI         Cook County 2022-08-31   \n",
       "1088  New York-Newark-Jersey City, NY-NJ-PA       Queens County 2022-09-30   \n",
       "1089     Los Angeles-Long Beach-Anaheim, CA  Los Angeles County 2022-09-30   \n",
       "1090   Houston-The Woodlands-Sugar Land, TX       Harris County 2022-09-30   \n",
       "1091     Chicago-Naperville-Elgin, IL-IN-WI         Cook County 2022-09-30   \n",
       "\n",
       "         value  \n",
       "0     253690.0  \n",
       "1     234181.0  \n",
       "2     109068.0  \n",
       "3     166139.0  \n",
       "4     255517.0  \n",
       "...        ...  \n",
       "1087  315587.0  \n",
       "1088  781622.0  \n",
       "1089  966595.0  \n",
       "1090  272639.0  \n",
       "1091  315429.0  \n",
       "\n",
       "[1092 rows x 10 columns]"
      ]
     },
     "execution_count": 13,
     "metadata": {},
     "output_type": "execute_result"
    }
   ],
   "source": [
    "long_df = melted.copy()\n",
    "long_df"
   ]
  },
  {
   "cell_type": "code",
   "execution_count": 14,
   "id": "40c9444e-0b17-4d24-aed8-91221ae7d6f0",
   "metadata": {
    "tags": []
   },
   "outputs": [
    {
     "data": {
      "text/html": [
       "<div>\n",
       "<style scoped>\n",
       "    .dataframe tbody tr th:only-of-type {\n",
       "        vertical-align: middle;\n",
       "    }\n",
       "\n",
       "    .dataframe tbody tr th {\n",
       "        vertical-align: top;\n",
       "    }\n",
       "\n",
       "    .dataframe thead th {\n",
       "        text-align: right;\n",
       "    }\n",
       "</style>\n",
       "<table border=\"1\" class=\"dataframe\">\n",
       "  <thead>\n",
       "    <tr style=\"text-align: right;\">\n",
       "      <th></th>\n",
       "      <th>regionid</th>\n",
       "      <th>sizerank</th>\n",
       "      <th>regionname</th>\n",
       "      <th>regiontype</th>\n",
       "      <th>statename</th>\n",
       "      <th>state</th>\n",
       "      <th>metro</th>\n",
       "      <th>countyname</th>\n",
       "      <th>value</th>\n",
       "    </tr>\n",
       "    <tr>\n",
       "      <th>date</th>\n",
       "      <th></th>\n",
       "      <th></th>\n",
       "      <th></th>\n",
       "      <th></th>\n",
       "      <th></th>\n",
       "      <th></th>\n",
       "      <th></th>\n",
       "      <th></th>\n",
       "      <th></th>\n",
       "    </tr>\n",
       "  </thead>\n",
       "  <tbody>\n",
       "    <tr>\n",
       "      <th>2000-01-31</th>\n",
       "      <td>6181</td>\n",
       "      <td>0</td>\n",
       "      <td>New York</td>\n",
       "      <td>city</td>\n",
       "      <td>NY</td>\n",
       "      <td>NY</td>\n",
       "      <td>New York-Newark-Jersey City, NY-NJ-PA</td>\n",
       "      <td>Queens County</td>\n",
       "      <td>253690.0</td>\n",
       "    </tr>\n",
       "    <tr>\n",
       "      <th>2000-01-31</th>\n",
       "      <td>12447</td>\n",
       "      <td>1</td>\n",
       "      <td>Los Angeles</td>\n",
       "      <td>city</td>\n",
       "      <td>CA</td>\n",
       "      <td>CA</td>\n",
       "      <td>Los Angeles-Long Beach-Anaheim, CA</td>\n",
       "      <td>Los Angeles County</td>\n",
       "      <td>234181.0</td>\n",
       "    </tr>\n",
       "    <tr>\n",
       "      <th>2000-01-31</th>\n",
       "      <td>39051</td>\n",
       "      <td>2</td>\n",
       "      <td>Houston</td>\n",
       "      <td>city</td>\n",
       "      <td>TX</td>\n",
       "      <td>TX</td>\n",
       "      <td>Houston-The Woodlands-Sugar Land, TX</td>\n",
       "      <td>Harris County</td>\n",
       "      <td>109068.0</td>\n",
       "    </tr>\n",
       "    <tr>\n",
       "      <th>2000-01-31</th>\n",
       "      <td>17426</td>\n",
       "      <td>3</td>\n",
       "      <td>Chicago</td>\n",
       "      <td>city</td>\n",
       "      <td>IL</td>\n",
       "      <td>IL</td>\n",
       "      <td>Chicago-Naperville-Elgin, IL-IN-WI</td>\n",
       "      <td>Cook County</td>\n",
       "      <td>166139.0</td>\n",
       "    </tr>\n",
       "    <tr>\n",
       "      <th>2000-02-29</th>\n",
       "      <td>6181</td>\n",
       "      <td>0</td>\n",
       "      <td>New York</td>\n",
       "      <td>city</td>\n",
       "      <td>NY</td>\n",
       "      <td>NY</td>\n",
       "      <td>New York-Newark-Jersey City, NY-NJ-PA</td>\n",
       "      <td>Queens County</td>\n",
       "      <td>255517.0</td>\n",
       "    </tr>\n",
       "    <tr>\n",
       "      <th>...</th>\n",
       "      <td>...</td>\n",
       "      <td>...</td>\n",
       "      <td>...</td>\n",
       "      <td>...</td>\n",
       "      <td>...</td>\n",
       "      <td>...</td>\n",
       "      <td>...</td>\n",
       "      <td>...</td>\n",
       "      <td>...</td>\n",
       "    </tr>\n",
       "    <tr>\n",
       "      <th>2022-08-31</th>\n",
       "      <td>17426</td>\n",
       "      <td>3</td>\n",
       "      <td>Chicago</td>\n",
       "      <td>city</td>\n",
       "      <td>IL</td>\n",
       "      <td>IL</td>\n",
       "      <td>Chicago-Naperville-Elgin, IL-IN-WI</td>\n",
       "      <td>Cook County</td>\n",
       "      <td>315587.0</td>\n",
       "    </tr>\n",
       "    <tr>\n",
       "      <th>2022-09-30</th>\n",
       "      <td>6181</td>\n",
       "      <td>0</td>\n",
       "      <td>New York</td>\n",
       "      <td>city</td>\n",
       "      <td>NY</td>\n",
       "      <td>NY</td>\n",
       "      <td>New York-Newark-Jersey City, NY-NJ-PA</td>\n",
       "      <td>Queens County</td>\n",
       "      <td>781622.0</td>\n",
       "    </tr>\n",
       "    <tr>\n",
       "      <th>2022-09-30</th>\n",
       "      <td>12447</td>\n",
       "      <td>1</td>\n",
       "      <td>Los Angeles</td>\n",
       "      <td>city</td>\n",
       "      <td>CA</td>\n",
       "      <td>CA</td>\n",
       "      <td>Los Angeles-Long Beach-Anaheim, CA</td>\n",
       "      <td>Los Angeles County</td>\n",
       "      <td>966595.0</td>\n",
       "    </tr>\n",
       "    <tr>\n",
       "      <th>2022-09-30</th>\n",
       "      <td>39051</td>\n",
       "      <td>2</td>\n",
       "      <td>Houston</td>\n",
       "      <td>city</td>\n",
       "      <td>TX</td>\n",
       "      <td>TX</td>\n",
       "      <td>Houston-The Woodlands-Sugar Land, TX</td>\n",
       "      <td>Harris County</td>\n",
       "      <td>272639.0</td>\n",
       "    </tr>\n",
       "    <tr>\n",
       "      <th>2022-09-30</th>\n",
       "      <td>17426</td>\n",
       "      <td>3</td>\n",
       "      <td>Chicago</td>\n",
       "      <td>city</td>\n",
       "      <td>IL</td>\n",
       "      <td>IL</td>\n",
       "      <td>Chicago-Naperville-Elgin, IL-IN-WI</td>\n",
       "      <td>Cook County</td>\n",
       "      <td>315429.0</td>\n",
       "    </tr>\n",
       "  </tbody>\n",
       "</table>\n",
       "<p>1092 rows × 9 columns</p>\n",
       "</div>"
      ],
      "text/plain": [
       "            regionid  sizerank   regionname regiontype statename state  \\\n",
       "date                                                                     \n",
       "2000-01-31      6181         0     New York       city        NY    NY   \n",
       "2000-01-31     12447         1  Los Angeles       city        CA    CA   \n",
       "2000-01-31     39051         2      Houston       city        TX    TX   \n",
       "2000-01-31     17426         3      Chicago       city        IL    IL   \n",
       "2000-02-29      6181         0     New York       city        NY    NY   \n",
       "...              ...       ...          ...        ...       ...   ...   \n",
       "2022-08-31     17426         3      Chicago       city        IL    IL   \n",
       "2022-09-30      6181         0     New York       city        NY    NY   \n",
       "2022-09-30     12447         1  Los Angeles       city        CA    CA   \n",
       "2022-09-30     39051         2      Houston       city        TX    TX   \n",
       "2022-09-30     17426         3      Chicago       city        IL    IL   \n",
       "\n",
       "                                            metro          countyname  \\\n",
       "date                                                                    \n",
       "2000-01-31  New York-Newark-Jersey City, NY-NJ-PA       Queens County   \n",
       "2000-01-31     Los Angeles-Long Beach-Anaheim, CA  Los Angeles County   \n",
       "2000-01-31   Houston-The Woodlands-Sugar Land, TX       Harris County   \n",
       "2000-01-31     Chicago-Naperville-Elgin, IL-IN-WI         Cook County   \n",
       "2000-02-29  New York-Newark-Jersey City, NY-NJ-PA       Queens County   \n",
       "...                                           ...                 ...   \n",
       "2022-08-31     Chicago-Naperville-Elgin, IL-IN-WI         Cook County   \n",
       "2022-09-30  New York-Newark-Jersey City, NY-NJ-PA       Queens County   \n",
       "2022-09-30     Los Angeles-Long Beach-Anaheim, CA  Los Angeles County   \n",
       "2022-09-30   Houston-The Woodlands-Sugar Land, TX       Harris County   \n",
       "2022-09-30     Chicago-Naperville-Elgin, IL-IN-WI         Cook County   \n",
       "\n",
       "               value  \n",
       "date                  \n",
       "2000-01-31  253690.0  \n",
       "2000-01-31  234181.0  \n",
       "2000-01-31  109068.0  \n",
       "2000-01-31  166139.0  \n",
       "2000-02-29  255517.0  \n",
       "...              ...  \n",
       "2022-08-31  315587.0  \n",
       "2022-09-30  781622.0  \n",
       "2022-09-30  966595.0  \n",
       "2022-09-30  272639.0  \n",
       "2022-09-30  315429.0  \n",
       "\n",
       "[1092 rows x 9 columns]"
      ]
     },
     "execution_count": 14,
     "metadata": {},
     "output_type": "execute_result"
    }
   ],
   "source": [
    "# Set Date column as the index\n",
    "melted = melted.set_index(\"date\")\n",
    "melted"
   ]
  },
  {
   "cell_type": "code",
   "execution_count": 15,
   "id": "91ededc3-621e-43e1-b9c1-d2d6ee578677",
   "metadata": {
    "tags": []
   },
   "outputs": [],
   "source": [
    "# melted['value'] = melted['value'].interpolate()?\n",
    "# melted['value'] = melted['value'].fillna(method='ffill')"
   ]
  },
  {
   "cell_type": "code",
   "execution_count": 16,
   "id": "bc08bd92-82e6-44a8-b962-74ecf47d2a2f",
   "metadata": {
    "tags": []
   },
   "outputs": [
    {
     "data": {
      "text/plain": [
       "regionid      0\n",
       "sizerank      0\n",
       "regionname    0\n",
       "regiontype    0\n",
       "statename     0\n",
       "state         0\n",
       "metro         0\n",
       "countyname    0\n",
       "value         5\n",
       "dtype: int64"
      ]
     },
     "execution_count": 16,
     "metadata": {},
     "output_type": "execute_result"
    }
   ],
   "source": [
    "melted.isna().sum()"
   ]
  },
  {
   "cell_type": "code",
   "execution_count": 17,
   "id": "4ffbc307-dfb5-46c4-a152-7dc933f22ca7",
   "metadata": {
    "tags": []
   },
   "outputs": [
    {
     "data": {
      "text/html": [
       "<div>\n",
       "<style scoped>\n",
       "    .dataframe tbody tr th:only-of-type {\n",
       "        vertical-align: middle;\n",
       "    }\n",
       "\n",
       "    .dataframe tbody tr th {\n",
       "        vertical-align: top;\n",
       "    }\n",
       "\n",
       "    .dataframe thead th {\n",
       "        text-align: right;\n",
       "    }\n",
       "</style>\n",
       "<table border=\"1\" class=\"dataframe\">\n",
       "  <thead>\n",
       "    <tr style=\"text-align: right;\">\n",
       "      <th></th>\n",
       "      <th>regionname</th>\n",
       "      <th>value</th>\n",
       "    </tr>\n",
       "    <tr>\n",
       "      <th>date</th>\n",
       "      <th></th>\n",
       "      <th></th>\n",
       "    </tr>\n",
       "  </thead>\n",
       "  <tbody>\n",
       "    <tr>\n",
       "      <th>2000-01-31</th>\n",
       "      <td>New York</td>\n",
       "      <td>253690.0</td>\n",
       "    </tr>\n",
       "    <tr>\n",
       "      <th>2000-01-31</th>\n",
       "      <td>Los Angeles</td>\n",
       "      <td>234181.0</td>\n",
       "    </tr>\n",
       "    <tr>\n",
       "      <th>2000-01-31</th>\n",
       "      <td>Houston</td>\n",
       "      <td>109068.0</td>\n",
       "    </tr>\n",
       "    <tr>\n",
       "      <th>2000-01-31</th>\n",
       "      <td>Chicago</td>\n",
       "      <td>166139.0</td>\n",
       "    </tr>\n",
       "    <tr>\n",
       "      <th>2000-02-29</th>\n",
       "      <td>New York</td>\n",
       "      <td>255517.0</td>\n",
       "    </tr>\n",
       "    <tr>\n",
       "      <th>...</th>\n",
       "      <td>...</td>\n",
       "      <td>...</td>\n",
       "    </tr>\n",
       "    <tr>\n",
       "      <th>2022-08-31</th>\n",
       "      <td>Chicago</td>\n",
       "      <td>315587.0</td>\n",
       "    </tr>\n",
       "    <tr>\n",
       "      <th>2022-09-30</th>\n",
       "      <td>New York</td>\n",
       "      <td>781622.0</td>\n",
       "    </tr>\n",
       "    <tr>\n",
       "      <th>2022-09-30</th>\n",
       "      <td>Los Angeles</td>\n",
       "      <td>966595.0</td>\n",
       "    </tr>\n",
       "    <tr>\n",
       "      <th>2022-09-30</th>\n",
       "      <td>Houston</td>\n",
       "      <td>272639.0</td>\n",
       "    </tr>\n",
       "    <tr>\n",
       "      <th>2022-09-30</th>\n",
       "      <td>Chicago</td>\n",
       "      <td>315429.0</td>\n",
       "    </tr>\n",
       "  </tbody>\n",
       "</table>\n",
       "<p>1092 rows × 2 columns</p>\n",
       "</div>"
      ],
      "text/plain": [
       "             regionname     value\n",
       "date                             \n",
       "2000-01-31     New York  253690.0\n",
       "2000-01-31  Los Angeles  234181.0\n",
       "2000-01-31      Houston  109068.0\n",
       "2000-01-31      Chicago  166139.0\n",
       "2000-02-29     New York  255517.0\n",
       "...                 ...       ...\n",
       "2022-08-31      Chicago  315587.0\n",
       "2022-09-30     New York  781622.0\n",
       "2022-09-30  Los Angeles  966595.0\n",
       "2022-09-30      Houston  272639.0\n",
       "2022-09-30      Chicago  315429.0\n",
       "\n",
       "[1092 rows x 2 columns]"
      ]
     },
     "execution_count": 17,
     "metadata": {},
     "output_type": "execute_result"
    }
   ],
   "source": [
    "melted_drop = melted.drop(columns=['sizerank', 'regionid','statename','countyname', 'metro', 'regiontype', 'state'])\n",
    "melted_drop"
   ]
  },
  {
   "cell_type": "code",
   "execution_count": 18,
   "id": "2bd1ca4e-fe2d-4198-87a9-e2b46742b5f8",
   "metadata": {
    "tags": []
   },
   "outputs": [
    {
     "data": {
      "text/plain": [
       "regionname    0\n",
       "value         5\n",
       "dtype: int64"
      ]
     },
     "execution_count": 18,
     "metadata": {},
     "output_type": "execute_result"
    }
   ],
   "source": [
    "melted_drop.isna().sum()"
   ]
  },
  {
   "cell_type": "code",
   "execution_count": 19,
   "id": "257122d9-3ffc-4225-9beb-0762c2edabb5",
   "metadata": {},
   "outputs": [
    {
     "data": {
      "text/html": [
       "<div>\n",
       "<style scoped>\n",
       "    .dataframe tbody tr th:only-of-type {\n",
       "        vertical-align: middle;\n",
       "    }\n",
       "\n",
       "    .dataframe tbody tr th {\n",
       "        vertical-align: top;\n",
       "    }\n",
       "\n",
       "    .dataframe thead th {\n",
       "        text-align: right;\n",
       "    }\n",
       "</style>\n",
       "<table border=\"1\" class=\"dataframe\">\n",
       "  <thead>\n",
       "    <tr style=\"text-align: right;\">\n",
       "      <th></th>\n",
       "      <th>regionname</th>\n",
       "      <th>value</th>\n",
       "    </tr>\n",
       "    <tr>\n",
       "      <th>date</th>\n",
       "      <th></th>\n",
       "      <th></th>\n",
       "    </tr>\n",
       "  </thead>\n",
       "  <tbody>\n",
       "    <tr>\n",
       "      <th>2000-01-31</th>\n",
       "      <td>New York</td>\n",
       "      <td>253690.0</td>\n",
       "    </tr>\n",
       "    <tr>\n",
       "      <th>2000-01-31</th>\n",
       "      <td>Los Angeles</td>\n",
       "      <td>234181.0</td>\n",
       "    </tr>\n",
       "    <tr>\n",
       "      <th>2000-01-31</th>\n",
       "      <td>Houston</td>\n",
       "      <td>109068.0</td>\n",
       "    </tr>\n",
       "    <tr>\n",
       "      <th>2000-01-31</th>\n",
       "      <td>Chicago</td>\n",
       "      <td>166139.0</td>\n",
       "    </tr>\n",
       "    <tr>\n",
       "      <th>2000-02-29</th>\n",
       "      <td>New York</td>\n",
       "      <td>255517.0</td>\n",
       "    </tr>\n",
       "    <tr>\n",
       "      <th>...</th>\n",
       "      <td>...</td>\n",
       "      <td>...</td>\n",
       "    </tr>\n",
       "    <tr>\n",
       "      <th>2022-08-31</th>\n",
       "      <td>Chicago</td>\n",
       "      <td>315587.0</td>\n",
       "    </tr>\n",
       "    <tr>\n",
       "      <th>2022-09-30</th>\n",
       "      <td>New York</td>\n",
       "      <td>781622.0</td>\n",
       "    </tr>\n",
       "    <tr>\n",
       "      <th>2022-09-30</th>\n",
       "      <td>Los Angeles</td>\n",
       "      <td>966595.0</td>\n",
       "    </tr>\n",
       "    <tr>\n",
       "      <th>2022-09-30</th>\n",
       "      <td>Houston</td>\n",
       "      <td>272639.0</td>\n",
       "    </tr>\n",
       "    <tr>\n",
       "      <th>2022-09-30</th>\n",
       "      <td>Chicago</td>\n",
       "      <td>315429.0</td>\n",
       "    </tr>\n",
       "  </tbody>\n",
       "</table>\n",
       "<p>1092 rows × 2 columns</p>\n",
       "</div>"
      ],
      "text/plain": [
       "             regionname     value\n",
       "date                             \n",
       "2000-01-31     New York  253690.0\n",
       "2000-01-31  Los Angeles  234181.0\n",
       "2000-01-31      Houston  109068.0\n",
       "2000-01-31      Chicago  166139.0\n",
       "2000-02-29     New York  255517.0\n",
       "...                 ...       ...\n",
       "2022-08-31      Chicago  315587.0\n",
       "2022-09-30     New York  781622.0\n",
       "2022-09-30  Los Angeles  966595.0\n",
       "2022-09-30      Houston  272639.0\n",
       "2022-09-30      Chicago  315429.0\n",
       "\n",
       "[1092 rows x 2 columns]"
      ]
     },
     "execution_count": 19,
     "metadata": {},
     "output_type": "execute_result"
    }
   ],
   "source": [
    "melted_drop"
   ]
  },
  {
   "cell_type": "code",
   "execution_count": 20,
   "id": "eddf2fa6-4c5d-4fea-a20d-5fd52c872863",
   "metadata": {
    "tags": []
   },
   "outputs": [
    {
     "data": {
      "text/plain": [
       "4"
      ]
     },
     "execution_count": 20,
     "metadata": {},
     "output_type": "execute_result"
    }
   ],
   "source": [
    "melted_drop['regionname'].nunique()"
   ]
  },
  {
   "cell_type": "code",
   "execution_count": 21,
   "id": "1a842403-69aa-4e80-91b7-756abc3f425f",
   "metadata": {
    "tags": []
   },
   "outputs": [
    {
     "name": "stdout",
     "output_type": "stream",
     "text": [
      "<class 'pandas.core.frame.DataFrame'>\n",
      "DatetimeIndex: 1092 entries, 2000-01-31 to 2022-09-30\n",
      "Data columns (total 2 columns):\n",
      " #   Column      Non-Null Count  Dtype  \n",
      "---  ------      --------------  -----  \n",
      " 0   regionname  1092 non-null   object \n",
      " 1   value       1087 non-null   float64\n",
      "dtypes: float64(1), object(1)\n",
      "memory usage: 25.6+ KB\n"
     ]
    }
   ],
   "source": [
    "melted_drop.info()"
   ]
  },
  {
   "cell_type": "code",
   "execution_count": 22,
   "id": "123c9763-562e-4a90-a8cb-a8d6f681d520",
   "metadata": {
    "tags": []
   },
   "outputs": [
    {
     "data": {
      "text/html": [
       "<div>\n",
       "<style scoped>\n",
       "    .dataframe tbody tr th:only-of-type {\n",
       "        vertical-align: middle;\n",
       "    }\n",
       "\n",
       "    .dataframe tbody tr th {\n",
       "        vertical-align: top;\n",
       "    }\n",
       "\n",
       "    .dataframe thead th {\n",
       "        text-align: right;\n",
       "    }\n",
       "</style>\n",
       "<table border=\"1\" class=\"dataframe\">\n",
       "  <thead>\n",
       "    <tr style=\"text-align: right;\">\n",
       "      <th></th>\n",
       "      <th>regionname</th>\n",
       "      <th>value</th>\n",
       "    </tr>\n",
       "    <tr>\n",
       "      <th>date</th>\n",
       "      <th></th>\n",
       "      <th></th>\n",
       "    </tr>\n",
       "  </thead>\n",
       "  <tbody>\n",
       "    <tr>\n",
       "      <th>2000-01-31</th>\n",
       "      <td>New York</td>\n",
       "      <td>253690.0</td>\n",
       "    </tr>\n",
       "    <tr>\n",
       "      <th>2000-01-31</th>\n",
       "      <td>Los Angeles</td>\n",
       "      <td>234181.0</td>\n",
       "    </tr>\n",
       "    <tr>\n",
       "      <th>2000-01-31</th>\n",
       "      <td>Houston</td>\n",
       "      <td>109068.0</td>\n",
       "    </tr>\n",
       "    <tr>\n",
       "      <th>2000-01-31</th>\n",
       "      <td>Chicago</td>\n",
       "      <td>166139.0</td>\n",
       "    </tr>\n",
       "    <tr>\n",
       "      <th>2000-02-29</th>\n",
       "      <td>New York</td>\n",
       "      <td>255517.0</td>\n",
       "    </tr>\n",
       "    <tr>\n",
       "      <th>...</th>\n",
       "      <td>...</td>\n",
       "      <td>...</td>\n",
       "    </tr>\n",
       "    <tr>\n",
       "      <th>2022-08-31</th>\n",
       "      <td>Chicago</td>\n",
       "      <td>315587.0</td>\n",
       "    </tr>\n",
       "    <tr>\n",
       "      <th>2022-09-30</th>\n",
       "      <td>New York</td>\n",
       "      <td>781622.0</td>\n",
       "    </tr>\n",
       "    <tr>\n",
       "      <th>2022-09-30</th>\n",
       "      <td>Los Angeles</td>\n",
       "      <td>966595.0</td>\n",
       "    </tr>\n",
       "    <tr>\n",
       "      <th>2022-09-30</th>\n",
       "      <td>Houston</td>\n",
       "      <td>272639.0</td>\n",
       "    </tr>\n",
       "    <tr>\n",
       "      <th>2022-09-30</th>\n",
       "      <td>Chicago</td>\n",
       "      <td>315429.0</td>\n",
       "    </tr>\n",
       "  </tbody>\n",
       "</table>\n",
       "<p>1092 rows × 2 columns</p>\n",
       "</div>"
      ],
      "text/plain": [
       "             regionname     value\n",
       "date                             \n",
       "2000-01-31     New York  253690.0\n",
       "2000-01-31  Los Angeles  234181.0\n",
       "2000-01-31      Houston  109068.0\n",
       "2000-01-31      Chicago  166139.0\n",
       "2000-02-29     New York  255517.0\n",
       "...                 ...       ...\n",
       "2022-08-31      Chicago  315587.0\n",
       "2022-09-30     New York  781622.0\n",
       "2022-09-30  Los Angeles  966595.0\n",
       "2022-09-30      Houston  272639.0\n",
       "2022-09-30      Chicago  315429.0\n",
       "\n",
       "[1092 rows x 2 columns]"
      ]
     },
     "execution_count": 22,
     "metadata": {},
     "output_type": "execute_result"
    }
   ],
   "source": [
    "long_df = melted_drop.copy()\n",
    "long_df"
   ]
  },
  {
   "cell_type": "code",
   "execution_count": 23,
   "id": "f547a6cc-afd5-43b2-a6ba-5dc9e3da9c2b",
   "metadata": {
    "tags": []
   },
   "outputs": [
    {
     "data": {
      "text/plain": [
       "DatetimeIndex(['2000-01-31', '2000-01-31', '2000-01-31', '2000-01-31',\n",
       "               '2000-02-29', '2000-02-29', '2000-02-29', '2000-02-29',\n",
       "               '2000-03-31', '2000-03-31',\n",
       "               ...\n",
       "               '2022-07-31', '2022-07-31', '2022-08-31', '2022-08-31',\n",
       "               '2022-08-31', '2022-08-31', '2022-09-30', '2022-09-30',\n",
       "               '2022-09-30', '2022-09-30'],\n",
       "              dtype='datetime64[ns]', name='date', length=1092, freq=None)"
      ]
     },
     "execution_count": 23,
     "metadata": {},
     "output_type": "execute_result"
    }
   ],
   "source": [
    "# Check index\n",
    "long_df.index"
   ]
  },
  {
   "cell_type": "code",
   "execution_count": 24,
   "id": "f52fae96-6275-4f18-90b2-6eccd60f32e9",
   "metadata": {
    "tags": []
   },
   "outputs": [
    {
     "name": "stdout",
     "output_type": "stream",
     "text": [
      "<class 'pandas.core.frame.DataFrame'>\n",
      "DatetimeIndex: 1092 entries, 2000-01-31 to 2022-09-30\n",
      "Data columns (total 2 columns):\n",
      " #   Column      Non-Null Count  Dtype  \n",
      "---  ------      --------------  -----  \n",
      " 0   regionname  1092 non-null   object \n",
      " 1   value       1087 non-null   float64\n",
      "dtypes: float64(1), object(1)\n",
      "memory usage: 25.6+ KB\n"
     ]
    }
   ],
   "source": [
    "long_df.info()"
   ]
  },
  {
   "cell_type": "code",
   "execution_count": 25,
   "id": "bec80999-043a-4f9e-a95d-439993e2298b",
   "metadata": {
    "tags": []
   },
   "outputs": [
    {
     "data": {
      "text/plain": [
       "regionname  date      \n",
       "Chicago     2000-01-31    166139.0\n",
       "            2000-02-29    166536.0\n",
       "            2000-03-31    167368.0\n",
       "            2000-04-30    168826.0\n",
       "            2000-05-31    170499.0\n",
       "                            ...   \n",
       "New York    2022-05-31    768797.0\n",
       "            2022-06-30    773944.0\n",
       "            2022-07-31    777692.0\n",
       "            2022-08-31    779960.0\n",
       "            2022-09-30    781622.0\n",
       "Name: value, Length: 1092, dtype: float64"
      ]
     },
     "execution_count": 25,
     "metadata": {},
     "output_type": "execute_result"
    }
   ],
   "source": [
    "long_df_ts = long_df.groupby('regionname').resample('M').last()['value']\n",
    "long_df_ts"
   ]
  },
  {
   "cell_type": "code",
   "execution_count": 26,
   "id": "c73d887e-b51f-4810-98c3-44d84868d2e3",
   "metadata": {
    "tags": []
   },
   "outputs": [
    {
     "data": {
      "text/plain": [
       "pandas.core.series.Series"
      ]
     },
     "execution_count": 26,
     "metadata": {},
     "output_type": "execute_result"
    }
   ],
   "source": [
    "# Check type\n",
    "type(long_df_ts)"
   ]
  },
  {
   "cell_type": "code",
   "execution_count": 27,
   "id": "03eae9c1-1a66-4549-8e57-5efaa14c140b",
   "metadata": {
    "tags": []
   },
   "outputs": [
    {
     "data": {
      "text/plain": [
       "MultiIndex([( 'Chicago', '2000-01-31'),\n",
       "            ( 'Chicago', '2000-02-29'),\n",
       "            ( 'Chicago', '2000-03-31'),\n",
       "            ( 'Chicago', '2000-04-30'),\n",
       "            ( 'Chicago', '2000-05-31'),\n",
       "            ( 'Chicago', '2000-06-30'),\n",
       "            ( 'Chicago', '2000-07-31'),\n",
       "            ( 'Chicago', '2000-08-31'),\n",
       "            ( 'Chicago', '2000-09-30'),\n",
       "            ( 'Chicago', '2000-10-31'),\n",
       "            ...\n",
       "            ('New York', '2021-12-31'),\n",
       "            ('New York', '2022-01-31'),\n",
       "            ('New York', '2022-02-28'),\n",
       "            ('New York', '2022-03-31'),\n",
       "            ('New York', '2022-04-30'),\n",
       "            ('New York', '2022-05-31'),\n",
       "            ('New York', '2022-06-30'),\n",
       "            ('New York', '2022-07-31'),\n",
       "            ('New York', '2022-08-31'),\n",
       "            ('New York', '2022-09-30')],\n",
       "           names=['regionname', 'date'], length=1092)"
      ]
     },
     "execution_count": 27,
     "metadata": {},
     "output_type": "execute_result"
    }
   ],
   "source": [
    "# Check index\n",
    "long_df_ts.index"
   ]
  },
  {
   "cell_type": "code",
   "execution_count": 28,
   "id": "381e1a9c-a9b1-4d91-8522-238a87b1d63f",
   "metadata": {
    "tags": []
   },
   "outputs": [
    {
     "data": {
      "text/plain": [
       "['New York', 'Los Angeles', 'Houston', 'Chicago']"
      ]
     },
     "execution_count": 28,
     "metadata": {},
     "output_type": "execute_result"
    }
   ],
   "source": [
    "cities = ['New York', 'Los Angeles', 'Houston', 'Chicago']\n",
    "cities"
   ]
  },
  {
   "cell_type": "code",
   "execution_count": 29,
   "id": "5ee6ab19-7e70-460c-ab12-1c36b55fb1e5",
   "metadata": {
    "tags": []
   },
   "outputs": [
    {
     "data": {
      "text/plain": [
       "regionname  date      \n",
       "New York    2000-01-31    253690.0\n",
       "            2000-02-29    255517.0\n",
       "            2000-03-31    257207.0\n",
       "            2000-04-30    260310.0\n",
       "            2000-05-31    263204.0\n",
       "                            ...   \n",
       "Chicago     2022-05-31    312487.0\n",
       "            2022-06-30    314663.0\n",
       "            2022-07-31    315910.0\n",
       "            2022-08-31    315587.0\n",
       "            2022-09-30    315429.0\n",
       "Name: value, Length: 1092, dtype: float64"
      ]
     },
     "execution_count": 29,
     "metadata": {},
     "output_type": "execute_result"
    }
   ],
   "source": [
    "plot_df = long_df_ts.loc[cities].copy()\n",
    "plot_df"
   ]
  },
  {
   "cell_type": "code",
   "execution_count": 30,
   "id": "4360e3e7-524a-4952-acc4-45642c8e76f3",
   "metadata": {
    "tags": []
   },
   "outputs": [
    {
     "data": {
      "text/plain": [
       "Index(['New York', 'New York', 'New York', 'New York', 'New York', 'New York',\n",
       "       'New York', 'New York', 'New York', 'New York',\n",
       "       ...\n",
       "       'Chicago', 'Chicago', 'Chicago', 'Chicago', 'Chicago', 'Chicago',\n",
       "       'Chicago', 'Chicago', 'Chicago', 'Chicago'],\n",
       "      dtype='object', name='regionname', length=1092)"
      ]
     },
     "execution_count": 30,
     "metadata": {},
     "output_type": "execute_result"
    }
   ],
   "source": [
    "# Level 0 is regionname\n",
    "plot_df.index.get_level_values(0)"
   ]
  },
  {
   "cell_type": "code",
   "execution_count": 31,
   "id": "9e90f4a5-09eb-4db0-9cbe-d08411bfecbd",
   "metadata": {
    "tags": []
   },
   "outputs": [
    {
     "data": {
      "text/plain": [
       "DatetimeIndex(['2000-01-31', '2000-02-29', '2000-03-31', '2000-04-30',\n",
       "               '2000-05-31', '2000-06-30', '2000-07-31', '2000-08-31',\n",
       "               '2000-09-30', '2000-10-31',\n",
       "               ...\n",
       "               '2021-12-31', '2022-01-31', '2022-02-28', '2022-03-31',\n",
       "               '2022-04-30', '2022-05-31', '2022-06-30', '2022-07-31',\n",
       "               '2022-08-31', '2022-09-30'],\n",
       "              dtype='datetime64[ns]', name='date', length=1092, freq=None)"
      ]
     },
     "execution_count": 31,
     "metadata": {},
     "output_type": "execute_result"
    }
   ],
   "source": [
    "# level 1 is date\n",
    "plot_df.index.get_level_values(1)"
   ]
  },
  {
   "cell_type": "code",
   "execution_count": 32,
   "id": "77921dcd-f9f0-44a2-8f46-ed4e771f3a5c",
   "metadata": {
    "tags": []
   },
   "outputs": [
    {
     "data": {
      "text/html": [
       "<div>\n",
       "<style scoped>\n",
       "    .dataframe tbody tr th:only-of-type {\n",
       "        vertical-align: middle;\n",
       "    }\n",
       "\n",
       "    .dataframe tbody tr th {\n",
       "        vertical-align: top;\n",
       "    }\n",
       "\n",
       "    .dataframe thead th {\n",
       "        text-align: right;\n",
       "    }\n",
       "</style>\n",
       "<table border=\"1\" class=\"dataframe\">\n",
       "  <thead>\n",
       "    <tr style=\"text-align: right;\">\n",
       "      <th>regionname</th>\n",
       "      <th>Chicago</th>\n",
       "      <th>Houston</th>\n",
       "      <th>Los Angeles</th>\n",
       "      <th>New York</th>\n",
       "    </tr>\n",
       "    <tr>\n",
       "      <th>date</th>\n",
       "      <th></th>\n",
       "      <th></th>\n",
       "      <th></th>\n",
       "      <th></th>\n",
       "    </tr>\n",
       "  </thead>\n",
       "  <tbody>\n",
       "    <tr>\n",
       "      <th>2000-01-31</th>\n",
       "      <td>166139.0</td>\n",
       "      <td>109068.0</td>\n",
       "      <td>234181.0</td>\n",
       "      <td>253690.0</td>\n",
       "    </tr>\n",
       "    <tr>\n",
       "      <th>2000-02-29</th>\n",
       "      <td>166536.0</td>\n",
       "      <td>109079.0</td>\n",
       "      <td>234401.0</td>\n",
       "      <td>255517.0</td>\n",
       "    </tr>\n",
       "    <tr>\n",
       "      <th>2000-03-31</th>\n",
       "      <td>167368.0</td>\n",
       "      <td>108878.0</td>\n",
       "      <td>235513.0</td>\n",
       "      <td>257207.0</td>\n",
       "    </tr>\n",
       "    <tr>\n",
       "      <th>2000-04-30</th>\n",
       "      <td>168826.0</td>\n",
       "      <td>108881.0</td>\n",
       "      <td>237589.0</td>\n",
       "      <td>260310.0</td>\n",
       "    </tr>\n",
       "    <tr>\n",
       "      <th>2000-05-31</th>\n",
       "      <td>170499.0</td>\n",
       "      <td>108834.0</td>\n",
       "      <td>240113.0</td>\n",
       "      <td>263204.0</td>\n",
       "    </tr>\n",
       "    <tr>\n",
       "      <th>...</th>\n",
       "      <td>...</td>\n",
       "      <td>...</td>\n",
       "      <td>...</td>\n",
       "      <td>...</td>\n",
       "    </tr>\n",
       "    <tr>\n",
       "      <th>2022-05-31</th>\n",
       "      <td>312487.0</td>\n",
       "      <td>265558.0</td>\n",
       "      <td>990391.0</td>\n",
       "      <td>768797.0</td>\n",
       "    </tr>\n",
       "    <tr>\n",
       "      <th>2022-06-30</th>\n",
       "      <td>314663.0</td>\n",
       "      <td>268901.0</td>\n",
       "      <td>992337.0</td>\n",
       "      <td>773944.0</td>\n",
       "    </tr>\n",
       "    <tr>\n",
       "      <th>2022-07-31</th>\n",
       "      <td>315910.0</td>\n",
       "      <td>271059.0</td>\n",
       "      <td>992630.0</td>\n",
       "      <td>777692.0</td>\n",
       "    </tr>\n",
       "    <tr>\n",
       "      <th>2022-08-31</th>\n",
       "      <td>315587.0</td>\n",
       "      <td>272400.0</td>\n",
       "      <td>978196.0</td>\n",
       "      <td>779960.0</td>\n",
       "    </tr>\n",
       "    <tr>\n",
       "      <th>2022-09-30</th>\n",
       "      <td>315429.0</td>\n",
       "      <td>272639.0</td>\n",
       "      <td>966595.0</td>\n",
       "      <td>781622.0</td>\n",
       "    </tr>\n",
       "  </tbody>\n",
       "</table>\n",
       "<p>273 rows × 4 columns</p>\n",
       "</div>"
      ],
      "text/plain": [
       "regionname   Chicago   Houston  Los Angeles  New York\n",
       "date                                                 \n",
       "2000-01-31  166139.0  109068.0     234181.0  253690.0\n",
       "2000-02-29  166536.0  109079.0     234401.0  255517.0\n",
       "2000-03-31  167368.0  108878.0     235513.0  257207.0\n",
       "2000-04-30  168826.0  108881.0     237589.0  260310.0\n",
       "2000-05-31  170499.0  108834.0     240113.0  263204.0\n",
       "...              ...       ...          ...       ...\n",
       "2022-05-31  312487.0  265558.0     990391.0  768797.0\n",
       "2022-06-30  314663.0  268901.0     992337.0  773944.0\n",
       "2022-07-31  315910.0  271059.0     992630.0  777692.0\n",
       "2022-08-31  315587.0  272400.0     978196.0  779960.0\n",
       "2022-09-30  315429.0  272639.0     966595.0  781622.0\n",
       "\n",
       "[273 rows x 4 columns]"
      ]
     },
     "execution_count": 32,
     "metadata": {},
     "output_type": "execute_result"
    }
   ],
   "source": [
    "# Plot the home values for all 4 cities. (Hint: use unstack)\n",
    "# Make sure to add a title and axis labels.\n",
    "# Reformat the y-axis ticks to use thousands of dollars with a \"K\" at the end. (e.g. \"200K, 400K, etc\")\n",
    "# Hint: use the FuncFormatter from matplotlib.\n",
    "# Applying unstack\n",
    "unstacked = plot_df.unstack(level=0)\n",
    "unstacked"
   ]
  },
  {
   "cell_type": "code",
   "execution_count": 33,
   "id": "743ff848-1359-4a13-8bc4-2212c05fb057",
   "metadata": {
    "tags": []
   },
   "outputs": [
    {
     "data": {
      "image/png": "[encoded data removed]",
      "text/plain": [
       "<Figure size 1200x400 with 1 Axes>"
      ]
     },
     "metadata": {},
     "output_type": "display_data"
    }
   ],
   "source": [
    "# Now we have the separate columns, we can plot the cities\n",
    "# from matplotlib.ticker import FuncFormatter\n",
    "# ax.yaxis.set_major_formatter()\n",
    "\n",
    "ax = unstacked.plot()\n",
    "ax.set_title('Home Value of Top 4 Cities')\n",
    "ax.set_ylabel('value in 000K')\n",
    "ax.legend(title='City')\n",
    "\n",
    "# Customize major ticks\n",
    "major_loc = mdates.YearLocator(1)\n",
    "major_fmt = mdates.DateFormatter(\"%Y\")\n",
    "\n",
    "# Edit final xdates\n",
    "fig = ax.get_figure()\n",
    "fig.autofmt_xdate(which='major', rotation=90);"
   ]
  },
  {
   "cell_type": "code",
   "execution_count": 34,
   "id": "b179fa83-a332-4306-a5c1-ad7707c47bf7",
   "metadata": {
    "tags": []
   },
   "outputs": [
    {
     "data": {
      "text/plain": [
       "Index(['Chicago', 'Houston', 'Los Angeles', 'New York'], dtype='object', name='regionname')"
      ]
     },
     "execution_count": 34,
     "metadata": {},
     "output_type": "execute_result"
    }
   ],
   "source": [
    "unstacked.columns"
   ]
  },
  {
   "cell_type": "markdown",
   "id": "26e2d19b-5aeb-4fcb-a35e-9274c9cdbbfe",
   "metadata": {},
   "source": [
    "**Answer the following 2 questions using pandas:**\n",
    "\n",
    "1) Which City had the highest Typical Home Value at the end of 2008? Which had the least?\n",
    "* Hint: You can use the unstacked dataframe or use pd.IndexSlice with the multiindex."
   ]
  },
  {
   "cell_type": "code",
   "execution_count": 35,
   "id": "2a7f13d0-7316-4866-8a7a-4b7e82ee61fa",
   "metadata": {
    "tags": []
   },
   "outputs": [],
   "source": [
    "# Based on the graph above\n",
    "\n",
    "# Highest = New York\n",
    "# Lowest = Houston\n",
    "\n",
    "# Checking\n",
    "ch_122008 = unstacked['Chicago'].loc['2008-12-31']\n",
    "hs_122008 = unstacked['Houston'].loc['2008-12-31']\n",
    "la_122008 = unstacked['Los Angeles'].loc['2008-12-31']\n",
    "ny_122008 = unstacked['New York'].loc['2008-12-31']"
   ]
  },
  {
   "cell_type": "code",
   "execution_count": 36,
   "id": "767896ea-bace-4a1a-9b88-5b624bdc0c71",
   "metadata": {
    "tags": []
   },
   "outputs": [
    {
     "data": {
      "text/plain": [
       "265306.0"
      ]
     },
     "execution_count": 36,
     "metadata": {},
     "output_type": "execute_result"
    }
   ],
   "source": [
    "ch_122008"
   ]
  },
  {
   "cell_type": "code",
   "execution_count": 37,
   "id": "9ad19025-70ec-40d4-a898-5a983cb024bc",
   "metadata": {
    "tags": []
   },
   "outputs": [
    {
     "data": {
      "text/plain": [
       "131283.0"
      ]
     },
     "execution_count": 37,
     "metadata": {},
     "output_type": "execute_result"
    }
   ],
   "source": [
    "hs_122008"
   ]
  },
  {
   "cell_type": "code",
   "execution_count": 38,
   "id": "cf1458b0-66a0-4a4e-be5f-691bd70cddd2",
   "metadata": {
    "tags": []
   },
   "outputs": [
    {
     "data": {
      "text/plain": [
       "469294.0"
      ]
     },
     "execution_count": 38,
     "metadata": {},
     "output_type": "execute_result"
    }
   ],
   "source": [
    "la_122008"
   ]
  },
  {
   "cell_type": "code",
   "execution_count": 39,
   "id": "191c89ea-be1b-4409-bafd-4c5f46f48773",
   "metadata": {
    "tags": []
   },
   "outputs": [
    {
     "data": {
      "text/plain": [
       "510309.0"
      ]
     },
     "execution_count": 39,
     "metadata": {},
     "output_type": "execute_result"
    }
   ],
   "source": [
    "ny_122008"
   ]
  },
  {
   "cell_type": "markdown",
   "id": "2b201dc7-3fe3-4d66-964c-3c2ec6113b5a",
   "metadata": {},
   "source": [
    "2) How much did the home values change from November 2008 to December 2008 (in dollars)?\n",
    "* Hint: you can use .diff() to calculate the change in values"
   ]
  },
  {
   "cell_type": "code",
   "execution_count": 40,
   "id": "9916846e-c161-486a-866e-100c7aab33f5",
   "metadata": {
    "tags": []
   },
   "outputs": [],
   "source": [
    "# Slice out 2008\n",
    "ts_112008 = unstacked.loc['2008-11-30']\n",
    "ts_122008 = unstacked.loc['2008-12-31']"
   ]
  },
  {
   "cell_type": "code",
   "execution_count": 41,
   "id": "b21d9605-dac4-4ef6-8b24-4881d3daf2e5",
   "metadata": {
    "tags": []
   },
   "outputs": [
    {
     "data": {
      "text/plain": [
       "regionname\n",
       "Chicago         5753.0\n",
       "Houston          964.0\n",
       "Los Angeles    12611.0\n",
       "New York        4458.0\n",
       "dtype: float64"
      ]
     },
     "execution_count": 41,
     "metadata": {},
     "output_type": "execute_result"
    }
   ],
   "source": [
    "diff = ts_112008 - ts_122008\n",
    "diff\n",
    "\n",
    "# The home values changed in different rates as per below: (in dollars)"
   ]
  },
  {
   "cell_type": "code",
   "execution_count": 42,
   "id": "d1c7a1ed-33af-43ba-8645-71d431bf2e98",
   "metadata": {},
   "outputs": [],
   "source": [
    "# Home values changed in Chicago by $5753.\n",
    "# In Houston, home values changed by $ 964.\n",
    "# In Los Angeles, home values changed by $12611.\n",
    "# While in New York, home values changed by $4458.\n",
    "\n",
    "# Comparing all the four cities, the biggest change was in Los Angeles."
   ]
  },
  {
   "cell_type": "markdown",
   "id": "a351c227-f830-4fcd-866a-64cc862b121f",
   "metadata": {},
   "source": [
    "## Part 2 GridSearch SARIMA Models (Core)"
   ]
  },
  {
   "cell_type": "code",
   "execution_count": 43,
   "id": "4c0797be-cb15-42ee-aaf9-cb3f0cd5672c",
   "metadata": {},
   "outputs": [],
   "source": [
    "import pandas as pd\n",
    "import numpy as np\n",
    "\n",
    "import matplotlib as mpl\n",
    "import matplotlib.pyplot as plt\n",
    "import seaborn as sns\n",
    "\n",
    "import pmdarima as pm\n",
    "from pmdarima.arima.utils import ndiffs, nsdiffs\n",
    "from pmdarima.model_selection import train_test_split\n",
    "\n",
    "from sklearn import set_config\n",
    "from sklearn.linear_model import LinearRegression\n",
    "from sklearn.metrics import (\n",
    "    mean_absolute_error,\n",
    "    mean_absolute_percentage_error,\n",
    "    mean_squared_error,\n",
    "    r2_score,\n",
    ")\n",
    "\n",
    "import statsmodels.tsa.api as tsa\n",
    "\n",
    "#set_config(transform_output=\"pandas\")\n",
    "plt.rcParams[\"figure.figsize\"] = (12, 4)\n",
    "sns.set_context(\"talk\", font_scale=0.9)\n",
    "\n",
    "# set random seed\n",
    "SEED = 321\n",
    "np.random.seed(SEED)"
   ]
  },
  {
   "cell_type": "code",
   "execution_count": 44,
   "id": "9e1c440b-7296-4cb9-85d2-6d522d1bb832",
   "metadata": {},
   "outputs": [],
   "source": [
    "def plot_forecast(ts_train, ts_test, forecast_df, n_train_lags=None, \n",
    "                  figsize=(10,4), title='Comparing Forecast vs. True Data'):\n",
    "    \n",
    "### PLot training data, and forecast (with upper/,lower ci)\n",
    "    fig, ax = plt.subplots(figsize=figsize)\n",
    "\n",
    "    # setting the number of train lags to plot if not specified\n",
    "    if n_train_lags == None:\n",
    "        n_train_lags = len(ts_train)\n",
    "\n",
    "    # Plotting Training  and test data\n",
    "    ts_train.iloc[-n_train_lags:].plot(ax=ax, label=\"train\")\n",
    "    ts_test.plot(label=\"test\", ax=ax)\n",
    "\n",
    "    # Plot forecast\n",
    "    forecast_df[\"mean\"].plot(ax=ax, color=\"green\", label=\"forecast\")\n",
    "\n",
    "    # Add the shaded confidence interval\n",
    "    ax.fill_between(\n",
    "        forecast_df.index,\n",
    "        forecast_df[\"mean_ci_lower\"],\n",
    "        forecast_df[\"mean_ci_upper\"],\n",
    "        color=\"green\",\n",
    "        alpha=0.3,\n",
    "        lw=2,\n",
    "    )\n",
    "\n",
    "    # set the title and add legend\n",
    "    ax.set_title(title)\n",
    "    ax.legend()\n",
    "\n",
    "    return fig, ax"
   ]
  },
  {
   "cell_type": "code",
   "execution_count": 45,
   "id": "36d99dee-f7f9-4a79-a00a-42246f511735",
   "metadata": {},
   "outputs": [],
   "source": [
    "# Custom function for Ad Fuller Test\n",
    "def get_adfuller_results(ts, alpha=.05, label='adfuller', **kwargs): #kwargs for adfuller()\n",
    "    # Saving each output\n",
    "    (test_stat, pval, nlags, nobs, crit_vals_d, icbest) = tsa.adfuller(ts, **kwargs)\n",
    "    \n",
    "    # Converting output to a dictionary with the interpretation of p\n",
    "    adfuller_results = {\n",
    "        \"Test Statistic\": test_stat,\n",
    "        \"# of Lags Used\": nlags,\n",
    "        \"# of Observations\": nobs,\n",
    "        \"p-value\": round(pval, 6),\n",
    "        \"alpha\": alpha,\n",
    "        \"sig/stationary?\": pval < alpha,\n",
    "    }\n",
    "    \n",
    "    return pd.DataFrame(adfuller_results, index=[label])"
   ]
  },
  {
   "cell_type": "code",
   "execution_count": 46,
   "id": "88777b42-4b3a-4b6e-9ee1-fc6f3f0453a4",
   "metadata": {},
   "outputs": [],
   "source": [
    "def regression_metrics_ts(ts_true, ts_pred, label=\"\", verbose=True, output_dict=False,):\n",
    "    # Get metrics\n",
    "    mae = mean_absolute_error(ts_true, ts_pred)\n",
    "    mse = mean_squared_error(ts_true, ts_pred)\n",
    "    rmse = mean_squared_error(ts_true, ts_pred, squared=False)\n",
    "    r_squared = r2_score(ts_true, ts_pred)\n",
    "    mae_perc = mean_absolute_percentage_error(ts_true, ts_pred) * 100\n",
    "\n",
    "    if verbose == True:\n",
    "        # Print Result with label\n",
    "        header = \"---\" * 20\n",
    "        print(header, f\"Regression Metrics: {label}\", header, sep=\"\\n\")\n",
    "        print(f\"- MAE = {mae:,.3f}\")\n",
    "        print(f\"- MSE = {mse:,.3f}\")\n",
    "        print(f\"- RMSE = {rmse:,.3f}\")\n",
    "        print(f\"- R^2 = {r_squared:,.3f}\")\n",
    "        print(f\"- MAPE = {mae_perc:,.2f}%\")\n",
    "\n",
    "    if output_dict == True:\n",
    "        metrics = {\n",
    "            \"Label\": label,\n",
    "            \"MAE\": mae,\n",
    "            \"MSE\": mse,\n",
    "            \"RMSE\": rmse,\n",
    "            \"R^2\": r_squared,\n",
    "            \"MAPE(%)\": mae_perc,\n",
    "        }\n",
    "        return metrics"
   ]
  },
  {
   "cell_type": "code",
   "execution_count": 47,
   "id": "32ee2053-a75b-4f2f-9be4-e83454938351",
   "metadata": {},
   "outputs": [],
   "source": [
    "def plot_acf_pacf(ts, nlags=40, figsize=(10, 5), \n",
    "                  annotate_sig=False, alpha=.05,\n",
    "                  acf_kws={}, pacf_kws={},  \n",
    "                  annotate_seas=False, m = None,\n",
    "                  seas_color='black'):\n",
    "\n",
    "    fig, axes = plt.subplots(nrows=2, figsize=figsize)\n",
    "\n",
    "    # Sig lags line style\n",
    "    sig_vline_kwargs = dict(ls=\":\", lw=1, zorder=0, color=\"red\")\n",
    "\n",
    "    # ACF\n",
    "    tsa.graphics.plot_acf(ts, ax=axes[0], lags=nlags, **acf_kws)\n",
    "\n",
    "    ## Annotating sig acf lags\n",
    "    if annotate_sig == True:\n",
    "        sig_acf_lags = get_sig_lags(ts, nlags=nlags, alpha=alpha, type=\"ACF\")\n",
    "        for lag in sig_acf_lags:\n",
    "            axes[0].axvline(lag, label=\"sig\", **sig_vline_kwargs)\n",
    "\n",
    "    # PACF\n",
    "    tsa.graphics.plot_pacf(ts, ax=axes[1], lags=nlags, **pacf_kws)\n",
    "\n",
    "    ## Annotating sig pacf lags\n",
    "    if annotate_sig == True:\n",
    "        ## ANNOTATING SIG LAGS\n",
    "        sig_pacf_lags = get_sig_lags(ts, nlags=nlags, alpha=alpha, type=\"PACF\")\n",
    "        for lag in sig_pacf_lags:\n",
    "            axes[1].axvline(lag, label=\"sig\", **sig_vline_kwargs)\n",
    "\n",
    "    ### ANNOTATE SEASONS\n",
    "    if annotate_seas == True:\n",
    "        # Ensure m was defined\n",
    "        if m is None:\n",
    "            raise Exception(\"Must define value of m if annotate_seas=True.\")\n",
    "\n",
    "        ## Calculate number of complete seasons to annotate\n",
    "        n_seasons = nlags // m\n",
    "\n",
    "        # Seasonal Lines style\n",
    "        seas_vline_kwargs = dict(ls=\"--\", lw=1, alpha=0.7, color=seas_color, zorder=-1)\n",
    "\n",
    "        ## for each season, add a line\n",
    "        for i in range(1, n_seasons + 1):\n",
    "            axes[0].axvline(m * i, **seas_vline_kwargs, label=\"season\")\n",
    "            axes[1].axvline(m * i, **seas_vline_kwargs, label=\"season\")\n",
    "\n",
    "    fig.tight_layout()\n",
    "\n",
    "    return fig"
   ]
  },
  {
   "cell_type": "code",
   "execution_count": 48,
   "id": "fd8c7f61-fabe-4778-aef2-8794dd6bee63",
   "metadata": {
    "tags": []
   },
   "outputs": [
    {
     "data": {
      "text/html": [
       "<div>\n",
       "<style scoped>\n",
       "    .dataframe tbody tr th:only-of-type {\n",
       "        vertical-align: middle;\n",
       "    }\n",
       "\n",
       "    .dataframe tbody tr th {\n",
       "        vertical-align: top;\n",
       "    }\n",
       "\n",
       "    .dataframe thead th {\n",
       "        text-align: right;\n",
       "    }\n",
       "</style>\n",
       "<table border=\"1\" class=\"dataframe\">\n",
       "  <thead>\n",
       "    <tr style=\"text-align: right;\">\n",
       "      <th></th>\n",
       "      <th>regionid</th>\n",
       "      <th>sizerank</th>\n",
       "      <th>regionname</th>\n",
       "      <th>regiontype</th>\n",
       "      <th>statename</th>\n",
       "      <th>state</th>\n",
       "      <th>metro</th>\n",
       "      <th>countyname</th>\n",
       "      <th>value</th>\n",
       "    </tr>\n",
       "    <tr>\n",
       "      <th>date</th>\n",
       "      <th></th>\n",
       "      <th></th>\n",
       "      <th></th>\n",
       "      <th></th>\n",
       "      <th></th>\n",
       "      <th></th>\n",
       "      <th></th>\n",
       "      <th></th>\n",
       "      <th></th>\n",
       "    </tr>\n",
       "  </thead>\n",
       "  <tbody>\n",
       "    <tr>\n",
       "      <th>2018-01-31</th>\n",
       "      <td>6181</td>\n",
       "      <td>0</td>\n",
       "      <td>New York</td>\n",
       "      <td>city</td>\n",
       "      <td>NY</td>\n",
       "      <td>NY</td>\n",
       "      <td>New York-Newark-Jersey City, NY-NJ-PA</td>\n",
       "      <td>Queens County</td>\n",
       "      <td>656700.0</td>\n",
       "    </tr>\n",
       "    <tr>\n",
       "      <th>2018-01-31</th>\n",
       "      <td>12447</td>\n",
       "      <td>1</td>\n",
       "      <td>Los Angeles</td>\n",
       "      <td>city</td>\n",
       "      <td>CA</td>\n",
       "      <td>CA</td>\n",
       "      <td>Los Angeles-Long Beach-Anaheim, CA</td>\n",
       "      <td>Los Angeles County</td>\n",
       "      <td>677868.0</td>\n",
       "    </tr>\n",
       "    <tr>\n",
       "      <th>2018-01-31</th>\n",
       "      <td>39051</td>\n",
       "      <td>2</td>\n",
       "      <td>Houston</td>\n",
       "      <td>city</td>\n",
       "      <td>TX</td>\n",
       "      <td>TX</td>\n",
       "      <td>Houston-The Woodlands-Sugar Land, TX</td>\n",
       "      <td>Harris County</td>\n",
       "      <td>178763.0</td>\n",
       "    </tr>\n",
       "    <tr>\n",
       "      <th>2018-01-31</th>\n",
       "      <td>17426</td>\n",
       "      <td>3</td>\n",
       "      <td>Chicago</td>\n",
       "      <td>city</td>\n",
       "      <td>IL</td>\n",
       "      <td>IL</td>\n",
       "      <td>Chicago-Naperville-Elgin, IL-IN-WI</td>\n",
       "      <td>Cook County</td>\n",
       "      <td>254397.0</td>\n",
       "    </tr>\n",
       "    <tr>\n",
       "      <th>2018-02-28</th>\n",
       "      <td>6181</td>\n",
       "      <td>0</td>\n",
       "      <td>New York</td>\n",
       "      <td>city</td>\n",
       "      <td>NY</td>\n",
       "      <td>NY</td>\n",
       "      <td>New York-Newark-Jersey City, NY-NJ-PA</td>\n",
       "      <td>Queens County</td>\n",
       "      <td>661012.0</td>\n",
       "    </tr>\n",
       "    <tr>\n",
       "      <th>...</th>\n",
       "      <td>...</td>\n",
       "      <td>...</td>\n",
       "      <td>...</td>\n",
       "      <td>...</td>\n",
       "      <td>...</td>\n",
       "      <td>...</td>\n",
       "      <td>...</td>\n",
       "      <td>...</td>\n",
       "      <td>...</td>\n",
       "    </tr>\n",
       "    <tr>\n",
       "      <th>2022-08-31</th>\n",
       "      <td>17426</td>\n",
       "      <td>3</td>\n",
       "      <td>Chicago</td>\n",
       "      <td>city</td>\n",
       "      <td>IL</td>\n",
       "      <td>IL</td>\n",
       "      <td>Chicago-Naperville-Elgin, IL-IN-WI</td>\n",
       "      <td>Cook County</td>\n",
       "      <td>315587.0</td>\n",
       "    </tr>\n",
       "    <tr>\n",
       "      <th>2022-09-30</th>\n",
       "      <td>6181</td>\n",
       "      <td>0</td>\n",
       "      <td>New York</td>\n",
       "      <td>city</td>\n",
       "      <td>NY</td>\n",
       "      <td>NY</td>\n",
       "      <td>New York-Newark-Jersey City, NY-NJ-PA</td>\n",
       "      <td>Queens County</td>\n",
       "      <td>781622.0</td>\n",
       "    </tr>\n",
       "    <tr>\n",
       "      <th>2022-09-30</th>\n",
       "      <td>12447</td>\n",
       "      <td>1</td>\n",
       "      <td>Los Angeles</td>\n",
       "      <td>city</td>\n",
       "      <td>CA</td>\n",
       "      <td>CA</td>\n",
       "      <td>Los Angeles-Long Beach-Anaheim, CA</td>\n",
       "      <td>Los Angeles County</td>\n",
       "      <td>966595.0</td>\n",
       "    </tr>\n",
       "    <tr>\n",
       "      <th>2022-09-30</th>\n",
       "      <td>39051</td>\n",
       "      <td>2</td>\n",
       "      <td>Houston</td>\n",
       "      <td>city</td>\n",
       "      <td>TX</td>\n",
       "      <td>TX</td>\n",
       "      <td>Houston-The Woodlands-Sugar Land, TX</td>\n",
       "      <td>Harris County</td>\n",
       "      <td>272639.0</td>\n",
       "    </tr>\n",
       "    <tr>\n",
       "      <th>2022-09-30</th>\n",
       "      <td>17426</td>\n",
       "      <td>3</td>\n",
       "      <td>Chicago</td>\n",
       "      <td>city</td>\n",
       "      <td>IL</td>\n",
       "      <td>IL</td>\n",
       "      <td>Chicago-Naperville-Elgin, IL-IN-WI</td>\n",
       "      <td>Cook County</td>\n",
       "      <td>315429.0</td>\n",
       "    </tr>\n",
       "  </tbody>\n",
       "</table>\n",
       "<p>228 rows × 9 columns</p>\n",
       "</div>"
      ],
      "text/plain": [
       "            regionid  sizerank   regionname regiontype statename state  \\\n",
       "date                                                                     \n",
       "2018-01-31      6181         0     New York       city        NY    NY   \n",
       "2018-01-31     12447         1  Los Angeles       city        CA    CA   \n",
       "2018-01-31     39051         2      Houston       city        TX    TX   \n",
       "2018-01-31     17426         3      Chicago       city        IL    IL   \n",
       "2018-02-28      6181         0     New York       city        NY    NY   \n",
       "...              ...       ...          ...        ...       ...   ...   \n",
       "2022-08-31     17426         3      Chicago       city        IL    IL   \n",
       "2022-09-30      6181         0     New York       city        NY    NY   \n",
       "2022-09-30     12447         1  Los Angeles       city        CA    CA   \n",
       "2022-09-30     39051         2      Houston       city        TX    TX   \n",
       "2022-09-30     17426         3      Chicago       city        IL    IL   \n",
       "\n",
       "                                            metro          countyname  \\\n",
       "date                                                                    \n",
       "2018-01-31  New York-Newark-Jersey City, NY-NJ-PA       Queens County   \n",
       "2018-01-31     Los Angeles-Long Beach-Anaheim, CA  Los Angeles County   \n",
       "2018-01-31   Houston-The Woodlands-Sugar Land, TX       Harris County   \n",
       "2018-01-31     Chicago-Naperville-Elgin, IL-IN-WI         Cook County   \n",
       "2018-02-28  New York-Newark-Jersey City, NY-NJ-PA       Queens County   \n",
       "...                                           ...                 ...   \n",
       "2022-08-31     Chicago-Naperville-Elgin, IL-IN-WI         Cook County   \n",
       "2022-09-30  New York-Newark-Jersey City, NY-NJ-PA       Queens County   \n",
       "2022-09-30     Los Angeles-Long Beach-Anaheim, CA  Los Angeles County   \n",
       "2022-09-30   Houston-The Woodlands-Sugar Land, TX       Harris County   \n",
       "2022-09-30     Chicago-Naperville-Elgin, IL-IN-WI         Cook County   \n",
       "\n",
       "               value  \n",
       "date                  \n",
       "2018-01-31  656700.0  \n",
       "2018-01-31  677868.0  \n",
       "2018-01-31  178763.0  \n",
       "2018-01-31  254397.0  \n",
       "2018-02-28  661012.0  \n",
       "...              ...  \n",
       "2022-08-31  315587.0  \n",
       "2022-09-30  781622.0  \n",
       "2022-09-30  966595.0  \n",
       "2022-09-30  272639.0  \n",
       "2022-09-30  315429.0  \n",
       "\n",
       "[228 rows x 9 columns]"
      ]
     },
     "execution_count": 48,
     "metadata": {},
     "output_type": "execute_result"
    }
   ],
   "source": [
    "# * Filter the dataset only to include values starting in 2018\n",
    "melted_ts = melted.loc['2018':'2022', ['regionid', 'sizerank', 'regionname', 'regiontype', 'statename','state', 'metro', 'countyname','value']]\n",
    "melted_ts"
   ]
  },
  {
   "cell_type": "code",
   "execution_count": 49,
   "id": "b05c3032-26fc-4065-a111-0c32a82c2b4a",
   "metadata": {
    "tags": []
   },
   "outputs": [
    {
     "data": {
      "text/plain": [
       "regionname  date      \n",
       "Chicago     2018-01-31    254397.0\n",
       "            2018-02-28    256564.0\n",
       "            2018-03-31    256995.0\n",
       "            2018-04-30    257112.0\n",
       "            2018-05-31    257174.0\n",
       "                            ...   \n",
       "New York    2022-05-31    768797.0\n",
       "            2022-06-30    773944.0\n",
       "            2022-07-31    777692.0\n",
       "            2022-08-31    779960.0\n",
       "            2022-09-30    781622.0\n",
       "Name: value, Length: 228, dtype: float64"
      ]
     },
     "execution_count": 49,
     "metadata": {},
     "output_type": "execute_result"
    }
   ],
   "source": [
    "long_df_ts = melted_ts.groupby('regionname').resample('M').last()['value']\n",
    "long_df_ts"
   ]
  },
  {
   "cell_type": "code",
   "execution_count": 50,
   "id": "75b66233-5a1b-4117-b742-adafb246185a",
   "metadata": {
    "tags": []
   },
   "outputs": [
    {
     "data": {
      "text/plain": [
       "0"
      ]
     },
     "execution_count": 50,
     "metadata": {},
     "output_type": "execute_result"
    }
   ],
   "source": [
    "# * Check for and address null values.\n",
    "long_df_ts.isna().sum()"
   ]
  },
  {
   "cell_type": "code",
   "execution_count": 51,
   "id": "c4c9cb7b-e65e-4b05-b955-a535873ba8f8",
   "metadata": {
    "tags": []
   },
   "outputs": [
    {
     "data": {
      "text/html": [
       "<div>\n",
       "<style scoped>\n",
       "    .dataframe tbody tr th:only-of-type {\n",
       "        vertical-align: middle;\n",
       "    }\n",
       "\n",
       "    .dataframe tbody tr th {\n",
       "        vertical-align: top;\n",
       "    }\n",
       "\n",
       "    .dataframe thead th {\n",
       "        text-align: right;\n",
       "    }\n",
       "</style>\n",
       "<table border=\"1\" class=\"dataframe\">\n",
       "  <thead>\n",
       "    <tr style=\"text-align: right;\">\n",
       "      <th></th>\n",
       "      <th>value</th>\n",
       "    </tr>\n",
       "    <tr>\n",
       "      <th>date</th>\n",
       "      <th></th>\n",
       "    </tr>\n",
       "  </thead>\n",
       "  <tbody>\n",
       "    <tr>\n",
       "      <th>2018-01-31</th>\n",
       "      <td>656700.0</td>\n",
       "    </tr>\n",
       "    <tr>\n",
       "      <th>2018-01-31</th>\n",
       "      <td>677868.0</td>\n",
       "    </tr>\n",
       "    <tr>\n",
       "      <th>2018-01-31</th>\n",
       "      <td>178763.0</td>\n",
       "    </tr>\n",
       "    <tr>\n",
       "      <th>2018-01-31</th>\n",
       "      <td>254397.0</td>\n",
       "    </tr>\n",
       "    <tr>\n",
       "      <th>2018-02-28</th>\n",
       "      <td>661012.0</td>\n",
       "    </tr>\n",
       "    <tr>\n",
       "      <th>...</th>\n",
       "      <td>...</td>\n",
       "    </tr>\n",
       "    <tr>\n",
       "      <th>2022-08-31</th>\n",
       "      <td>315587.0</td>\n",
       "    </tr>\n",
       "    <tr>\n",
       "      <th>2022-09-30</th>\n",
       "      <td>781622.0</td>\n",
       "    </tr>\n",
       "    <tr>\n",
       "      <th>2022-09-30</th>\n",
       "      <td>966595.0</td>\n",
       "    </tr>\n",
       "    <tr>\n",
       "      <th>2022-09-30</th>\n",
       "      <td>272639.0</td>\n",
       "    </tr>\n",
       "    <tr>\n",
       "      <th>2022-09-30</th>\n",
       "      <td>315429.0</td>\n",
       "    </tr>\n",
       "  </tbody>\n",
       "</table>\n",
       "<p>228 rows × 1 columns</p>\n",
       "</div>"
      ],
      "text/plain": [
       "               value\n",
       "date                \n",
       "2018-01-31  656700.0\n",
       "2018-01-31  677868.0\n",
       "2018-01-31  178763.0\n",
       "2018-01-31  254397.0\n",
       "2018-02-28  661012.0\n",
       "...              ...\n",
       "2022-08-31  315587.0\n",
       "2022-09-30  781622.0\n",
       "2022-09-30  966595.0\n",
       "2022-09-30  272639.0\n",
       "2022-09-30  315429.0\n",
       "\n",
       "[228 rows x 1 columns]"
      ]
     },
     "execution_count": 51,
     "metadata": {},
     "output_type": "execute_result"
    }
   ],
   "source": [
    "ts = melted.loc['2018':'2022', ['value']]\n",
    "ts"
   ]
  },
  {
   "cell_type": "code",
   "execution_count": 52,
   "id": "1b71a539-fc6b-4621-b92c-9a4552b9bb73",
   "metadata": {
    "tags": []
   },
   "outputs": [
    {
     "data": {
      "text/plain": [
       "date\n",
       "2018-01-31    254397.0\n",
       "2018-02-28    256564.0\n",
       "2018-03-31    256995.0\n",
       "2018-04-30    257112.0\n",
       "2018-05-31    257174.0\n",
       "2018-06-30    257461.0\n",
       "2018-07-31    257467.0\n",
       "2018-08-31    257258.0\n",
       "2018-09-30    257917.0\n",
       "2018-10-31    258549.0\n",
       "2018-11-30    259637.0\n",
       "2018-12-31    260447.0\n",
       "2019-01-31    260559.0\n",
       "2019-02-28    261069.0\n",
       "2019-03-31    261214.0\n",
       "2019-04-30    261813.0\n",
       "2019-05-31    261519.0\n",
       "2019-06-30    261110.0\n",
       "2019-07-31    260676.0\n",
       "2019-08-31    260236.0\n",
       "2019-09-30    259915.0\n",
       "2019-10-31    259593.0\n",
       "2019-11-30    259510.0\n",
       "2019-12-31    259625.0\n",
       "2020-01-31    260161.0\n",
       "2020-02-29    261128.0\n",
       "2020-03-31    261799.0\n",
       "2020-04-30    262116.0\n",
       "2020-05-31    262013.0\n",
       "2020-06-30    262362.0\n",
       "2020-07-31    264051.0\n",
       "2020-08-31    266204.0\n",
       "2020-09-30    270202.0\n",
       "2020-10-31    273716.0\n",
       "2020-11-30    276541.0\n",
       "2020-12-31    278154.0\n",
       "2021-01-31    278668.0\n",
       "2021-02-28    280878.0\n",
       "2021-03-31    282423.0\n",
       "2021-04-30    285237.0\n",
       "2021-05-31    286248.0\n",
       "2021-06-30    288347.0\n",
       "2021-07-31    290773.0\n",
       "2021-08-31    293804.0\n",
       "2021-09-30    295841.0\n",
       "2021-10-31    297856.0\n",
       "2021-11-30    300413.0\n",
       "2021-12-31    302821.0\n",
       "2022-01-31    305104.0\n",
       "2022-02-28    306404.0\n",
       "2022-03-31    308303.0\n",
       "2022-04-30    309649.0\n",
       "2022-05-31    312487.0\n",
       "2022-06-30    314663.0\n",
       "2022-07-31    315910.0\n",
       "2022-08-31    315587.0\n",
       "2022-09-30    315429.0\n",
       "Freq: M, Name: value, dtype: float64"
      ]
     },
     "execution_count": 52,
     "metadata": {},
     "output_type": "execute_result"
    }
   ],
   "source": [
    "ts = ts.resample('M').last()['value']\n",
    "ts"
   ]
  },
  {
   "cell_type": "code",
   "execution_count": 53,
   "id": "0e3c5217-b945-4547-9e48-d7f88cb60c38",
   "metadata": {},
   "outputs": [],
   "source": [
    "import matplotlib.ticker as mticks\n",
    "import matplotlib.dates as mdates\n",
    "\n",
    "def millions(x,pos):\n",
    "    \"\"\"function for use wth matplotlib FuncFormatter -  formats money in millions\"\"\"\n",
    "    new_x = x/1_000_000\n",
    "    return f\"{new_x:,.0f}M\"\n",
    "def thousands(x,pos):\n",
    "    \"\"\"function for use wth matplotlib FuncFormatter -  formats money in millions\"\"\"\n",
    "    new_x = x/1_000\n",
    "    return f\"{new_x:,.0f}K\"\n",
    "# Create the formatters\n",
    "fmt_mill = mticks.FuncFormatter(millions)\n",
    "fmt_thous = mticks.FuncFormatter(thousands)"
   ]
  },
  {
   "cell_type": "code",
   "execution_count": 54,
   "id": "ec44842f-3e15-48d5-8ddb-45b4d6a4bffe",
   "metadata": {
    "tags": []
   },
   "outputs": [
    {
     "data": {
      "image/png": "[encoded data removed]",
      "text/plain": [
       "<Figure size 1200x400 with 1 Axes>"
      ]
     },
     "metadata": {},
     "output_type": "display_data"
    }
   ],
   "source": [
    "ax = ts.plot()\n",
    "ax.set_ylabel('home value');"
   ]
  },
  {
   "cell_type": "code",
   "execution_count": 55,
   "id": "cffa2a3f-aac4-4f83-9f05-ff4f0e6b76c9",
   "metadata": {
    "tags": []
   },
   "outputs": [
    {
     "data": {
      "image/png": "[encoded data removed]",
      "text/plain": [
       "<Figure size 1200x800 with 4 Axes>"
      ]
     },
     "metadata": {},
     "output_type": "display_data"
    }
   ],
   "source": [
    "# Decompose the Time series to detect seasonality and decide if your model should or should not have a seasonal component\n",
    "\n",
    "# Apply seasonal decomposition\n",
    "decomp = tsa.seasonal_decompose(ts)\n",
    "\n",
    "# plot\n",
    "fig = decomp.plot()\n",
    "fig.set_size_inches(12, 8)\n",
    "fig.tight_layout()\n",
    "\n",
    "# Resid = Residual = Noise"
   ]
  },
  {
   "cell_type": "code",
   "execution_count": 56,
   "id": "4a516bcf-32d6-43bd-b5ba-bca7f7ef2aad",
   "metadata": {
    "tags": []
   },
   "outputs": [
    {
     "name": "stdout",
     "output_type": "stream",
     "text": [
      "The seasonal component is  1780.38 which is ~2.89% of the variation in time series.\n"
     ]
    }
   ],
   "source": [
    "# How big is the seasonal component\n",
    "seasonal_delta = decomp.seasonal.max() - decomp.seasonal.min() \n",
    "\n",
    "# How big is the seasonal component relative to the time series?\n",
    "print(f\"The seasonal component is {seasonal_delta: .2f} which is ~{seasonal_delta/(ts.max()-ts.min()) * 100 :.2f}% of the variation in time series.\")"
   ]
  },
  {
   "cell_type": "code",
   "execution_count": 57,
   "id": "e9f76f51-70d2-40f9-acf0-134f75c318ce",
   "metadata": {
    "tags": []
   },
   "outputs": [
    {
     "data": {
      "image/png": "[encoded data removed]",
      "text/plain": [
       "<Figure size 1200x400 with 1 Axes>"
      ]
     },
     "metadata": {},
     "output_type": "display_data"
    }
   ],
   "source": [
    "# Narrow down the date range of the plot\n",
    "seasonal = decomp.seasonal\n",
    "\n",
    "# plot\n",
    "ax = seasonal.loc['2019':'2020'].plot(marker = 'o');"
   ]
  },
  {
   "cell_type": "code",
   "execution_count": 58,
   "id": "f76ab10a-c117-4f8b-99d7-b2de0f5093d9",
   "metadata": {
    "tags": []
   },
   "outputs": [
    {
     "data": {
      "text/html": [
       "<div>\n",
       "<style scoped>\n",
       "    .dataframe tbody tr th:only-of-type {\n",
       "        vertical-align: middle;\n",
       "    }\n",
       "\n",
       "    .dataframe tbody tr th {\n",
       "        vertical-align: top;\n",
       "    }\n",
       "\n",
       "    .dataframe thead th {\n",
       "        text-align: right;\n",
       "    }\n",
       "</style>\n",
       "<table border=\"1\" class=\"dataframe\">\n",
       "  <thead>\n",
       "    <tr style=\"text-align: right;\">\n",
       "      <th></th>\n",
       "      <th>Test Statistic</th>\n",
       "      <th># of Lags Used</th>\n",
       "      <th># of Observations</th>\n",
       "      <th>p-value</th>\n",
       "      <th>alpha</th>\n",
       "      <th>sig/stationary?</th>\n",
       "    </tr>\n",
       "  </thead>\n",
       "  <tbody>\n",
       "    <tr>\n",
       "      <th>adfuller</th>\n",
       "      <td>-0.831673</td>\n",
       "      <td>7</td>\n",
       "      <td>49</td>\n",
       "      <td>0.809641</td>\n",
       "      <td>0.05</td>\n",
       "      <td>False</td>\n",
       "    </tr>\n",
       "  </tbody>\n",
       "</table>\n",
       "</div>"
      ],
      "text/plain": [
       "          Test Statistic  # of Lags Used  # of Observations   p-value  alpha  \\\n",
       "adfuller       -0.831673               7                 49  0.809641   0.05   \n",
       "\n",
       "          sig/stationary?  \n",
       "adfuller            False  "
      ]
     },
     "execution_count": 58,
     "metadata": {},
     "output_type": "execute_result"
    }
   ],
   "source": [
    "# * Determine Time Series Model Orders\n",
    "#     * Check the time series for stationarity.\n",
    "#         * Determine the number of differencing needed to make the data stationary\n",
    "#     * Check the ACF/PACF Plots of the differenced data to determine the orders\n",
    "# Testing the raw data for stationarity\n",
    "get_adfuller_results(ts)"
   ]
  },
  {
   "cell_type": "code",
   "execution_count": 59,
   "id": "a1187a28-3c56-4136-a767-6029209b069a",
   "metadata": {},
   "outputs": [],
   "source": [
    "# Data is NOT stationary"
   ]
  },
  {
   "cell_type": "code",
   "execution_count": 60,
   "id": "3d2fe425-8f4c-48d8-998e-edd749d0a5c4",
   "metadata": {
    "tags": []
   },
   "outputs": [
    {
     "name": "stdout",
     "output_type": "stream",
     "text": [
      "d = 2\n"
     ]
    }
   ],
   "source": [
    "# use ndiffs to determine differencing (process to make the data's overall trend more stable)\n",
    "# by being  stationary overtime (not moving)\n",
    "# it's usually a value between 1 and 2\n",
    "d = ndiffs(ts)\n",
    "print(f'd = {d}')\n",
    "\n",
    "# by making the data stable (achieving stationarity) because many time series analysis performan better when the data\n",
    "# does not show strong trends or seasonality"
   ]
  },
  {
   "cell_type": "code",
   "execution_count": 61,
   "id": "59137fad-770d-437e-9b35-ef13475a0cf3",
   "metadata": {
    "tags": []
   },
   "outputs": [
    {
     "name": "stdout",
     "output_type": "stream",
     "text": [
      "D = 0\n"
     ]
    }
   ],
   "source": [
    "# Determine D\n",
    "D = nsdiffs(ts, m = 12)   # number of points\n",
    "\n",
    "# nsdiffs = function used to analyze ts/ timeseries for seasonal patterns (patterns are trends that repeat at regular intervals)\n",
    "\n",
    "print (f'D = {D}')"
   ]
  },
  {
   "cell_type": "code",
   "execution_count": 62,
   "id": "05049f62-3dfc-45d2-9e92-5cbc8ed2e0b7",
   "metadata": {
    "tags": []
   },
   "outputs": [
    {
     "data": {
      "image/png": "[encoded data removed]",
      "text/plain": [
       "<Figure size 1200x400 with 1 Axes>"
      ]
     },
     "metadata": {},
     "output_type": "display_data"
    }
   ],
   "source": [
    "# apply both differencings\n",
    "ts_diff = ts.diff().diff(12).dropna()\n",
    "\n",
    "# create the plot\n",
    "fig, ax = plt.subplots()\n",
    "ts_diff.plot(ax = ax)\n",
    "\n",
    "# Customize major ticks\n",
    "major_loc = mdates.YearLocator(1)\n",
    "major_fmt = mdates.DateFormatter(\"%M\")\n",
    "\n",
    "# Edit final xdates\n",
    "fig = ax.get_figure()\n",
    "fig.autofmt_xdate(which='major', rotation=90);"
   ]
  },
  {
   "cell_type": "code",
   "execution_count": 63,
   "id": "9e659ac0-0b38-49ad-9ef1-1563dd1b43b6",
   "metadata": {
    "tags": []
   },
   "outputs": [
    {
     "data": {
      "image/png": "[encoded data removed]",
      "text/plain": [
       "<Figure size 1000x500 with 2 Axes>"
      ]
     },
     "metadata": {},
     "output_type": "display_data"
    }
   ],
   "source": [
    "# Determine initial model orders\n",
    "\n",
    "# We can use our function to highlight the seasonal lags by adding the arguments, plot ACF PACF\n",
    "# plot differenced data (ACF autocorrelation PACF partial autocorrelation function)\n",
    "\n",
    "# Use the ACF and PACF plots of stationarity data to estimate initial orders\n",
    "plot_acf_pacf(ts_diff,\n",
    "              annotate_seas = True,\n",
    "              m=12,\n",
    "              nlags=12, # next 12 months\n",
    "              pacf_kws = {'method':'ywm'});"
   ]
  },
  {
   "cell_type": "code",
   "execution_count": 64,
   "id": "86fc12cb-57dc-4990-800e-68326e083d85",
   "metadata": {
    "tags": []
   },
   "outputs": [
    {
     "data": {
      "image/png": "[encoded data removed]",
      "text/plain": [
       "<Figure size 1200x400 with 1 Axes>"
      ]
     },
     "metadata": {},
     "output_type": "display_data"
    }
   ],
   "source": [
    "# * Split the time series into training and test data (Remember we want to predict 6 months, and our data has been resampled to monthly)\n",
    "\n",
    "# tts--goal is to predict next 6 months so use 6\n",
    "nlags = 6  # This is for the next 6 months\n",
    "#  t-1, t-2 etc\n",
    "\n",
    "train, test = train_test_split(ts, test_size = nlags)\n",
    "\n",
    "# plot\n",
    "ax = train.plot(label = 'Train')\n",
    "test.plot(label = 'Test')\n",
    "ax.legend();"
   ]
  },
  {
   "cell_type": "code",
   "execution_count": 65,
   "id": "d9face14-8fa9-4bdf-b48f-289a26250aac",
   "metadata": {
    "tags": []
   },
   "outputs": [],
   "source": [
    "# * Fit a manual ARIMA/SARIMA model based on the orders determined during your exploration.\n",
    "#     * Make forecasts with your model.\n",
    "#     * Plot the forecasts versus the test data\n",
    "#     * Obtain metrics for evaluation\n",
    "\n",
    "# Initial model\n",
    "\n",
    "# Orders for non seasonal components\n",
    "p = 2   # nonseasonal AR\n",
    "d = 2  # nonseasonal differencing\n",
    "q = 0  # nonseasonal MA\n",
    "\n",
    "# Orders for seasonal components\n",
    "P = 0  # Seasonal AR\n",
    "D = 0  # Seasonal differencing\n",
    "Q = 0  # Seasonal MA\n",
    "m = 12  # Seasonal period\n",
    "\n",
    "model_1 = tsa.ARIMA(train, order = (p, d, q), seasonal_order = (P, D, Q, m)).fit()"
   ]
  },
  {
   "cell_type": "code",
   "execution_count": 66,
   "id": "c61c897f-35df-4081-9471-4c87d4e4ca56",
   "metadata": {
    "tags": []
   },
   "outputs": [
    {
     "name": "stdout",
     "output_type": "stream",
     "text": [
      "------------------------------------------------------------\n",
      "Regression Metrics: \n",
      "------------------------------------------------------------\n",
      "- MAE = 1,369.705\n",
      "- MSE = 4,157,253.607\n",
      "- RMSE = 2,038.934\n",
      "- R^2 = 0.165\n",
      "- MAPE = 0.43%\n"
     ]
    },
    {
     "data": {
      "image/png": "[encoded data removed]",
      "text/plain": [
       "<Figure size 1000x400 with 1 Axes>"
      ]
     },
     "metadata": {},
     "output_type": "display_data"
    }
   ],
   "source": [
    "# Obtain summary of forecast as dataframe\n",
    "forecast_df = model_1.get_forecast(len(test)).summary_frame()\n",
    "\n",
    "# Plot the forecast with true values\n",
    "plot_forecast(train, test, forecast_df)\n",
    "\n",
    "# Obtain metrics\n",
    "regression_metrics_ts(test, forecast_df['mean'])\n",
    "\n",
    "# MAPE < 5% excellent, 5-10% very good, 10-20% good, 20-50% fair, >50% bad"
   ]
  },
  {
   "cell_type": "code",
   "execution_count": 67,
   "id": "76459e45-7e63-411d-ad86-8ef71651a2d3",
   "metadata": {
    "tags": []
   },
   "outputs": [
    {
     "data": {
      "text/html": [
       "<table class=\"simpletable\">\n",
       "<caption>SARIMAX Results</caption>\n",
       "<tr>\n",
       "  <th>Dep. Variable:</th>         <td>value</td>      <th>  No. Observations:  </th>    <td>51</td>   \n",
       "</tr>\n",
       "<tr>\n",
       "  <th>Model:</th>            <td>ARIMA(2, 2, 0)</td>  <th>  Log Likelihood     </th> <td>-392.169</td>\n",
       "</tr>\n",
       "<tr>\n",
       "  <th>Date:</th>            <td>Sun, 07 Apr 2024</td> <th>  AIC                </th>  <td>790.338</td>\n",
       "</tr>\n",
       "<tr>\n",
       "  <th>Time:</th>                <td>01:58:02</td>     <th>  BIC                </th>  <td>796.013</td>\n",
       "</tr>\n",
       "<tr>\n",
       "  <th>Sample:</th>             <td>01-31-2018</td>    <th>  HQIC               </th>  <td>792.491</td>\n",
       "</tr>\n",
       "<tr>\n",
       "  <th></th>                   <td>- 03-31-2022</td>   <th>                     </th>     <td> </td>   \n",
       "</tr>\n",
       "<tr>\n",
       "  <th>Covariance Type:</th>        <td>opg</td>       <th>                     </th>     <td> </td>   \n",
       "</tr>\n",
       "</table>\n",
       "<table class=\"simpletable\">\n",
       "<tr>\n",
       "     <td></td>       <th>coef</th>     <th>std err</th>      <th>z</th>      <th>P>|z|</th>  <th>[0.025</th>    <th>0.975]</th>  \n",
       "</tr>\n",
       "<tr>\n",
       "  <th>ar.L1</th>  <td>    0.0257</td> <td>    0.067</td> <td>    0.383</td> <td> 0.702</td> <td>   -0.106</td> <td>    0.157</td>\n",
       "</tr>\n",
       "<tr>\n",
       "  <th>ar.L2</th>  <td>    0.0046</td> <td>    0.090</td> <td>    0.051</td> <td> 0.959</td> <td>   -0.172</td> <td>    0.181</td>\n",
       "</tr>\n",
       "<tr>\n",
       "  <th>sigma2</th> <td> 4.995e+05</td> <td> 9.27e+04</td> <td>    5.388</td> <td> 0.000</td> <td> 3.18e+05</td> <td> 6.81e+05</td>\n",
       "</tr>\n",
       "</table>\n",
       "<table class=\"simpletable\">\n",
       "<tr>\n",
       "  <th>Ljung-Box (L1) (Q):</th>     <td>3.37</td> <th>  Jarque-Bera (JB):  </th> <td>0.68</td>\n",
       "</tr>\n",
       "<tr>\n",
       "  <th>Prob(Q):</th>                <td>0.07</td> <th>  Prob(JB):          </th> <td>0.71</td>\n",
       "</tr>\n",
       "<tr>\n",
       "  <th>Heteroskedasticity (H):</th> <td>5.03</td> <th>  Skew:              </th> <td>0.18</td>\n",
       "</tr>\n",
       "<tr>\n",
       "  <th>Prob(H) (two-sided):</th>    <td>0.00</td> <th>  Kurtosis:          </th> <td>3.46</td>\n",
       "</tr>\n",
       "</table><br/><br/>Warnings:<br/>[1] Covariance matrix calculated using the outer product of gradients (complex-step)."
      ],
      "text/latex": [
       "\\begin{center}\n",
       "\\begin{tabular}{lclc}\n",
       "\\toprule\n",
       "\\textbf{Dep. Variable:}          &      value       & \\textbf{  No. Observations:  } &     51      \\\\\n",
       "\\textbf{Model:}                  &  ARIMA(2, 2, 0)  & \\textbf{  Log Likelihood     } &  -392.169   \\\\\n",
       "\\textbf{Date:}                   & Sun, 07 Apr 2024 & \\textbf{  AIC                } &  790.338    \\\\\n",
       "\\textbf{Time:}                   &     01:58:02     & \\textbf{  BIC                } &  796.013    \\\\\n",
       "\\textbf{Sample:}                 &    01-31-2018    & \\textbf{  HQIC               } &  792.491    \\\\\n",
       "\\textbf{}                        &   - 03-31-2022   & \\textbf{                     } &             \\\\\n",
       "\\textbf{Covariance Type:}        &       opg        & \\textbf{                     } &             \\\\\n",
       "\\bottomrule\n",
       "\\end{tabular}\n",
       "\\begin{tabular}{lcccccc}\n",
       "                & \\textbf{coef} & \\textbf{std err} & \\textbf{z} & \\textbf{P$> |$z$|$} & \\textbf{[0.025} & \\textbf{0.975]}  \\\\\n",
       "\\midrule\n",
       "\\textbf{ar.L1}  &       0.0257  &        0.067     &     0.383  &         0.702        &       -0.106    &        0.157     \\\\\n",
       "\\textbf{ar.L2}  &       0.0046  &        0.090     &     0.051  &         0.959        &       -0.172    &        0.181     \\\\\n",
       "\\textbf{sigma2} &    4.995e+05  &     9.27e+04     &     5.388  &         0.000        &     3.18e+05    &     6.81e+05     \\\\\n",
       "\\bottomrule\n",
       "\\end{tabular}\n",
       "\\begin{tabular}{lclc}\n",
       "\\textbf{Ljung-Box (L1) (Q):}     & 3.37 & \\textbf{  Jarque-Bera (JB):  } & 0.68  \\\\\n",
       "\\textbf{Prob(Q):}                & 0.07 & \\textbf{  Prob(JB):          } & 0.71  \\\\\n",
       "\\textbf{Heteroskedasticity (H):} & 5.03 & \\textbf{  Skew:              } & 0.18  \\\\\n",
       "\\textbf{Prob(H) (two-sided):}    & 0.00 & \\textbf{  Kurtosis:          } & 3.46  \\\\\n",
       "\\bottomrule\n",
       "\\end{tabular}\n",
       "%\\caption{SARIMAX Results}\n",
       "\\end{center}\n",
       "\n",
       "Warnings: \\newline\n",
       " [1] Covariance matrix calculated using the outer product of gradients (complex-step)."
      ],
      "text/plain": [
       "<class 'statsmodels.iolib.summary.Summary'>\n",
       "\"\"\"\n",
       "                               SARIMAX Results                                \n",
       "==============================================================================\n",
       "Dep. Variable:                  value   No. Observations:                   51\n",
       "Model:                 ARIMA(2, 2, 0)   Log Likelihood                -392.169\n",
       "Date:                Sun, 07 Apr 2024   AIC                            790.338\n",
       "Time:                        01:58:02   BIC                            796.013\n",
       "Sample:                    01-31-2018   HQIC                           792.491\n",
       "                         - 03-31-2022                                         \n",
       "Covariance Type:                  opg                                         \n",
       "==============================================================================\n",
       "                 coef    std err          z      P>|z|      [0.025      0.975]\n",
       "------------------------------------------------------------------------------\n",
       "ar.L1          0.0257      0.067      0.383      0.702      -0.106       0.157\n",
       "ar.L2          0.0046      0.090      0.051      0.959      -0.172       0.181\n",
       "sigma2      4.995e+05   9.27e+04      5.388      0.000    3.18e+05    6.81e+05\n",
       "===================================================================================\n",
       "Ljung-Box (L1) (Q):                   3.37   Jarque-Bera (JB):                 0.68\n",
       "Prob(Q):                              0.07   Prob(JB):                         0.71\n",
       "Heteroskedasticity (H):               5.03   Skew:                             0.18\n",
       "Prob(H) (two-sided):                  0.00   Kurtosis:                         3.46\n",
       "===================================================================================\n",
       "\n",
       "Warnings:\n",
       "[1] Covariance matrix calculated using the outer product of gradients (complex-step).\n",
       "\"\"\""
      ]
     },
     "execution_count": 67,
     "metadata": {},
     "output_type": "execute_result"
    }
   ],
   "source": [
    "# Obtain summary\n",
    "model_1.summary()"
   ]
  },
  {
   "cell_type": "code",
   "execution_count": 68,
   "id": "f52fb95d-f8e0-4cf8-b7b2-e844b90f360b",
   "metadata": {
    "tags": []
   },
   "outputs": [
    {
     "data": {
      "image/png": "[encoded data removed]",
      "text/plain": [
       "<Figure size 1000x600 with 4 Axes>"
      ]
     },
     "metadata": {},
     "output_type": "display_data"
    }
   ],
   "source": [
    "# Obtain diagnostic plots\n",
    "fig = model_1.plot_diagnostics()\n",
    "fig.set_size_inches(10, 6)\n",
    "fig.tight_layout();"
   ]
  },
  {
   "cell_type": "code",
   "execution_count": 69,
   "id": "5c07d595-8dcb-48fe-bc82-db111fbb994d",
   "metadata": {
    "tags": []
   },
   "outputs": [
    {
     "name": "stdout",
     "output_type": "stream",
     "text": [
      "Performing stepwise search to minimize aic\n",
      " ARIMA(2,2,2)(1,0,1)[12]             : AIC=796.074, Time=0.40 sec\n",
      " ARIMA(0,2,0)(0,0,0)[12]             : AIC=791.421, Time=0.01 sec\n",
      " ARIMA(1,2,0)(1,0,0)[12]             : AIC=789.687, Time=0.02 sec\n",
      " ARIMA(0,2,1)(0,0,1)[12]             : AIC=789.791, Time=0.04 sec\n",
      " ARIMA(1,2,0)(0,0,0)[12]             : AIC=788.485, Time=0.01 sec\n",
      " ARIMA(1,2,0)(0,0,1)[12]             : AIC=789.682, Time=0.02 sec\n",
      " ARIMA(1,2,0)(1,0,1)[12]             : AIC=790.170, Time=0.08 sec\n",
      " ARIMA(2,2,0)(0,0,0)[12]             : AIC=790.338, Time=0.01 sec\n",
      " ARIMA(1,2,1)(0,0,0)[12]             : AIC=790.300, Time=0.06 sec\n",
      " ARIMA(0,2,1)(0,0,0)[12]             : AIC=788.549, Time=0.04 sec\n",
      " ARIMA(2,2,1)(0,0,0)[12]             : AIC=793.086, Time=0.03 sec\n",
      " ARIMA(1,2,0)(0,0,0)[12] intercept   : AIC=790.408, Time=0.02 sec\n",
      "\n",
      "Best model:  ARIMA(1,2,0)(0,0,0)[12]          \n",
      "Total fit time: 0.745 seconds\n"
     ]
    }
   ],
   "source": [
    "# * Tune with pmdarima's auto_arima\n",
    "#     * Fit a model on training data with the best parameters from auto_arima\n",
    "#     * Obtain metrics for evaluation\n",
    "#     * Make forecasts with the auto_arima model\n",
    "#     * Plot the forecasts versus the test data\n",
    "# Default auto_arima will select model based on AIC score\n",
    "auto_model = pm.auto_arima(train,\n",
    "                          seasonal = True,\n",
    "                           m = 12,\n",
    "                           trace = True)"
   ]
  },
  {
   "cell_type": "code",
   "execution_count": 70,
   "id": "273773a6-25d3-4548-8b2d-8834e1d6ec95",
   "metadata": {
    "tags": []
   },
   "outputs": [
    {
     "name": "stdout",
     "output_type": "stream",
     "text": [
      "(1, 2, 0)\n",
      "(0, 0, 0, 12)\n"
     ]
    }
   ],
   "source": [
    "# the auto_arima will store our best nonseasonal and seasonal orders separtely\n",
    "print(auto_model.order)\n",
    "print(auto_model.seasonal_order)"
   ]
  },
  {
   "cell_type": "code",
   "execution_count": 71,
   "id": "3b4dca49-2eea-4e8a-b4a4-15e2bc6d662b",
   "metadata": {
    "tags": []
   },
   "outputs": [
    {
     "data": {
      "text/html": [
       "<table class=\"simpletable\">\n",
       "<caption>SARIMAX Results</caption>\n",
       "<tr>\n",
       "  <th>Dep. Variable:</th>           <td>y</td>        <th>  No. Observations:  </th>    <td>51</td>   \n",
       "</tr>\n",
       "<tr>\n",
       "  <th>Model:</th>           <td>SARIMAX(1, 2, 0)</td> <th>  Log Likelihood     </th> <td>-392.243</td>\n",
       "</tr>\n",
       "<tr>\n",
       "  <th>Date:</th>            <td>Sun, 07 Apr 2024</td> <th>  AIC                </th>  <td>788.485</td>\n",
       "</tr>\n",
       "<tr>\n",
       "  <th>Time:</th>                <td>01:58:04</td>     <th>  BIC                </th>  <td>792.269</td>\n",
       "</tr>\n",
       "<tr>\n",
       "  <th>Sample:</th>             <td>01-31-2018</td>    <th>  HQIC               </th>  <td>789.921</td>\n",
       "</tr>\n",
       "<tr>\n",
       "  <th></th>                   <td>- 03-31-2022</td>   <th>                     </th>     <td> </td>   \n",
       "</tr>\n",
       "<tr>\n",
       "  <th>Covariance Type:</th>        <td>opg</td>       <th>                     </th>     <td> </td>   \n",
       "</tr>\n",
       "</table>\n",
       "<table class=\"simpletable\">\n",
       "<tr>\n",
       "     <td></td>       <th>coef</th>     <th>std err</th>      <th>z</th>      <th>P>|z|</th>  <th>[0.025</th>    <th>0.975]</th>  \n",
       "</tr>\n",
       "<tr>\n",
       "  <th>ar.L1</th>  <td>    0.0240</td> <td>    0.071</td> <td>    0.340</td> <td> 0.734</td> <td>   -0.114</td> <td>    0.162</td>\n",
       "</tr>\n",
       "<tr>\n",
       "  <th>sigma2</th> <td> 5.104e+05</td> <td> 9.36e+04</td> <td>    5.450</td> <td> 0.000</td> <td> 3.27e+05</td> <td> 6.94e+05</td>\n",
       "</tr>\n",
       "</table>\n",
       "<table class=\"simpletable\">\n",
       "<tr>\n",
       "  <th>Ljung-Box (L1) (Q):</th>     <td>3.31</td> <th>  Jarque-Bera (JB):  </th> <td>0.72</td>\n",
       "</tr>\n",
       "<tr>\n",
       "  <th>Prob(Q):</th>                <td>0.07</td> <th>  Prob(JB):          </th> <td>0.70</td>\n",
       "</tr>\n",
       "<tr>\n",
       "  <th>Heteroskedasticity (H):</th> <td>4.92</td> <th>  Skew:              </th> <td>0.20</td>\n",
       "</tr>\n",
       "<tr>\n",
       "  <th>Prob(H) (two-sided):</th>    <td>0.00</td> <th>  Kurtosis:          </th> <td>3.44</td>\n",
       "</tr>\n",
       "</table><br/><br/>Warnings:<br/>[1] Covariance matrix calculated using the outer product of gradients (complex-step)."
      ],
      "text/latex": [
       "\\begin{center}\n",
       "\\begin{tabular}{lclc}\n",
       "\\toprule\n",
       "\\textbf{Dep. Variable:}          &        y         & \\textbf{  No. Observations:  } &     51      \\\\\n",
       "\\textbf{Model:}                  & SARIMAX(1, 2, 0) & \\textbf{  Log Likelihood     } &  -392.243   \\\\\n",
       "\\textbf{Date:}                   & Sun, 07 Apr 2024 & \\textbf{  AIC                } &  788.485    \\\\\n",
       "\\textbf{Time:}                   &     01:58:04     & \\textbf{  BIC                } &  792.269    \\\\\n",
       "\\textbf{Sample:}                 &    01-31-2018    & \\textbf{  HQIC               } &  789.921    \\\\\n",
       "\\textbf{}                        &   - 03-31-2022   & \\textbf{                     } &             \\\\\n",
       "\\textbf{Covariance Type:}        &       opg        & \\textbf{                     } &             \\\\\n",
       "\\bottomrule\n",
       "\\end{tabular}\n",
       "\\begin{tabular}{lcccccc}\n",
       "                & \\textbf{coef} & \\textbf{std err} & \\textbf{z} & \\textbf{P$> |$z$|$} & \\textbf{[0.025} & \\textbf{0.975]}  \\\\\n",
       "\\midrule\n",
       "\\textbf{ar.L1}  &       0.0240  &        0.071     &     0.340  &         0.734        &       -0.114    &        0.162     \\\\\n",
       "\\textbf{sigma2} &    5.104e+05  &     9.36e+04     &     5.450  &         0.000        &     3.27e+05    &     6.94e+05     \\\\\n",
       "\\bottomrule\n",
       "\\end{tabular}\n",
       "\\begin{tabular}{lclc}\n",
       "\\textbf{Ljung-Box (L1) (Q):}     & 3.31 & \\textbf{  Jarque-Bera (JB):  } & 0.72  \\\\\n",
       "\\textbf{Prob(Q):}                & 0.07 & \\textbf{  Prob(JB):          } & 0.70  \\\\\n",
       "\\textbf{Heteroskedasticity (H):} & 4.92 & \\textbf{  Skew:              } & 0.20  \\\\\n",
       "\\textbf{Prob(H) (two-sided):}    & 0.00 & \\textbf{  Kurtosis:          } & 3.44  \\\\\n",
       "\\bottomrule\n",
       "\\end{tabular}\n",
       "%\\caption{SARIMAX Results}\n",
       "\\end{center}\n",
       "\n",
       "Warnings: \\newline\n",
       " [1] Covariance matrix calculated using the outer product of gradients (complex-step)."
      ],
      "text/plain": [
       "<class 'statsmodels.iolib.summary.Summary'>\n",
       "\"\"\"\n",
       "                               SARIMAX Results                                \n",
       "==============================================================================\n",
       "Dep. Variable:                      y   No. Observations:                   51\n",
       "Model:               SARIMAX(1, 2, 0)   Log Likelihood                -392.243\n",
       "Date:                Sun, 07 Apr 2024   AIC                            788.485\n",
       "Time:                        01:58:04   BIC                            792.269\n",
       "Sample:                    01-31-2018   HQIC                           789.921\n",
       "                         - 03-31-2022                                         \n",
       "Covariance Type:                  opg                                         \n",
       "==============================================================================\n",
       "                 coef    std err          z      P>|z|      [0.025      0.975]\n",
       "------------------------------------------------------------------------------\n",
       "ar.L1          0.0240      0.071      0.340      0.734      -0.114       0.162\n",
       "sigma2      5.104e+05   9.36e+04      5.450      0.000    3.27e+05    6.94e+05\n",
       "===================================================================================\n",
       "Ljung-Box (L1) (Q):                   3.31   Jarque-Bera (JB):                 0.72\n",
       "Prob(Q):                              0.07   Prob(JB):                         0.70\n",
       "Heteroskedasticity (H):               4.92   Skew:                             0.20\n",
       "Prob(H) (two-sided):                  0.00   Kurtosis:                         3.44\n",
       "===================================================================================\n",
       "\n",
       "Warnings:\n",
       "[1] Covariance matrix calculated using the outer product of gradients (complex-step).\n",
       "\"\"\""
      ]
     },
     "execution_count": 71,
     "metadata": {},
     "output_type": "execute_result"
    }
   ],
   "source": [
    "# Obtain summary of the best model from auto_arima\n",
    "auto_model.summary()"
   ]
  },
  {
   "cell_type": "code",
   "execution_count": 72,
   "id": "1e396e31-d613-4a0b-8ad6-d22e1ad70342",
   "metadata": {
    "tags": []
   },
   "outputs": [
    {
     "data": {
      "image/png": "[encoded data removed]",
      "text/plain": [
       "<Figure size 1000x600 with 4 Axes>"
      ]
     },
     "metadata": {},
     "output_type": "display_data"
    }
   ],
   "source": [
    "# Obtain diagnostic plots\n",
    "fig = auto_model.plot_diagnostics()\n",
    "fig.set_size_inches(10, 6)\n",
    "fig.tight_layout();"
   ]
  },
  {
   "cell_type": "code",
   "execution_count": 73,
   "id": "cde3fdc0-a5b7-4b3b-a806-70bba4ad7dac",
   "metadata": {
    "tags": []
   },
   "outputs": [
    {
     "name": "stdout",
     "output_type": "stream",
     "text": [
      "------------------------------------------------------------\n",
      "Regression Metrics: \n",
      "------------------------------------------------------------\n",
      "- MAE = 1,371.919\n",
      "- MSE = 4,171,518.606\n",
      "- RMSE = 2,042.430\n",
      "- R^2 = 0.162\n",
      "- MAPE = 0.44%\n"
     ]
    },
    {
     "data": {
      "image/png": "[encoded data removed]",
      "text/plain": [
       "<Figure size 1000x400 with 1 Axes>"
      ]
     },
     "metadata": {},
     "output_type": "display_data"
    }
   ],
   "source": [
    "# Use auto_arima parameters to fit an ARIMA\n",
    "model_2 = tsa.ARIMA(train, order = auto_model.order,\n",
    "                   seasonal_order = auto_model.seasonal_order).fit()\n",
    "\n",
    "# Obtain forecast as a dataframe with confidence intervals\n",
    "forecast_df = model_2.get_forecast(steps = len(test)).summary_frame()\n",
    "\n",
    "# Call the custom function to plot the forecasts with confidence intervals and true values\n",
    "plot_forecast(train, test, forecast_df)\n",
    "\n",
    "# Obtain metrics\n",
    "regression_metrics_ts(test, forecast_df['mean'])"
   ]
  },
  {
   "cell_type": "code",
   "execution_count": 74,
   "id": "3ce2a69c-a0ec-4ef8-b735-4aa43c450195",
   "metadata": {
    "tags": []
   },
   "outputs": [
    {
     "data": {
      "text/html": [
       "<div>\n",
       "<style scoped>\n",
       "    .dataframe tbody tr th:only-of-type {\n",
       "        vertical-align: middle;\n",
       "    }\n",
       "\n",
       "    .dataframe tbody tr th {\n",
       "        vertical-align: top;\n",
       "    }\n",
       "\n",
       "    .dataframe thead th {\n",
       "        text-align: right;\n",
       "    }\n",
       "</style>\n",
       "<table border=\"1\" class=\"dataframe\">\n",
       "  <thead>\n",
       "    <tr style=\"text-align: right;\">\n",
       "      <th></th>\n",
       "      <th>value</th>\n",
       "    </tr>\n",
       "    <tr>\n",
       "      <th>date</th>\n",
       "      <th></th>\n",
       "    </tr>\n",
       "  </thead>\n",
       "  <tbody>\n",
       "    <tr>\n",
       "      <th>2000-01-31</th>\n",
       "      <td>253690.0</td>\n",
       "    </tr>\n",
       "    <tr>\n",
       "      <th>2000-01-31</th>\n",
       "      <td>234181.0</td>\n",
       "    </tr>\n",
       "    <tr>\n",
       "      <th>2000-01-31</th>\n",
       "      <td>109068.0</td>\n",
       "    </tr>\n",
       "    <tr>\n",
       "      <th>2000-01-31</th>\n",
       "      <td>166139.0</td>\n",
       "    </tr>\n",
       "    <tr>\n",
       "      <th>2000-02-29</th>\n",
       "      <td>255517.0</td>\n",
       "    </tr>\n",
       "    <tr>\n",
       "      <th>...</th>\n",
       "      <td>...</td>\n",
       "    </tr>\n",
       "    <tr>\n",
       "      <th>2022-08-31</th>\n",
       "      <td>315587.0</td>\n",
       "    </tr>\n",
       "    <tr>\n",
       "      <th>2022-09-30</th>\n",
       "      <td>781622.0</td>\n",
       "    </tr>\n",
       "    <tr>\n",
       "      <th>2022-09-30</th>\n",
       "      <td>966595.0</td>\n",
       "    </tr>\n",
       "    <tr>\n",
       "      <th>2022-09-30</th>\n",
       "      <td>272639.0</td>\n",
       "    </tr>\n",
       "    <tr>\n",
       "      <th>2022-09-30</th>\n",
       "      <td>315429.0</td>\n",
       "    </tr>\n",
       "  </tbody>\n",
       "</table>\n",
       "<p>1092 rows × 1 columns</p>\n",
       "</div>"
      ],
      "text/plain": [
       "               value\n",
       "date                \n",
       "2000-01-31  253690.0\n",
       "2000-01-31  234181.0\n",
       "2000-01-31  109068.0\n",
       "2000-01-31  166139.0\n",
       "2000-02-29  255517.0\n",
       "...              ...\n",
       "2022-08-31  315587.0\n",
       "2022-09-30  781622.0\n",
       "2022-09-30  966595.0\n",
       "2022-09-30  272639.0\n",
       "2022-09-30  315429.0\n",
       "\n",
       "[1092 rows x 1 columns]"
      ]
     },
     "execution_count": 74,
     "metadata": {},
     "output_type": "execute_result"
    }
   ],
   "source": [
    "ts_all = melted.loc['2000':'2022', ['value']]\n",
    "ts_all"
   ]
  },
  {
   "cell_type": "code",
   "execution_count": 78,
   "id": "a8224f76-c516-4816-8492-d53d25c394a8",
   "metadata": {
    "tags": []
   },
   "outputs": [
    {
     "data": {
      "image/png": "[encoded data removed]",
      "text/plain": [
       "<Figure size 1000x400 with 1 Axes>"
      ]
     },
     "metadata": {},
     "output_type": "display_data"
    }
   ],
   "source": [
    "# Use auto_arima parameters to fit an ARIMA\n",
    "final_model = tsa.ARIMA(ts,\n",
    "                        order = auto_model.order,\n",
    "                        seasonal_order = auto_model.seasonal_order).fit()\n",
    "\n",
    "# Obtain future forecasts beyond test data\n",
    "forecast_df = final_model.get_forecast(len(test)).summary_frame()\n",
    "plot_forecast(train, test, forecast_df, n_train_lags = 60);"
   ]
  },
  {
   "cell_type": "code",
   "execution_count": 56,
   "id": "fdab1271-e05c-42ad-8b64-6a8d63039db0",
   "metadata": {
    "tags": []
   },
   "outputs": [],
   "source": [
    "# * Select your final model\n",
    "# * Make true future forecasts using the entire dataset (for dates beyond the entire ts).\n",
    "#     * Calculate the predicted net change in home value for the forecasted period as both:\n",
    "#         * Raw values for change in the final month in the forecast vs. the first month.\n",
    "#         * Convert the raw delta into a percent change."
   ]
  },
  {
   "cell_type": "code",
   "execution_count": 79,
   "id": "ce1be7fa-9073-4e7e-9ed7-7450274b6a95",
   "metadata": {
    "tags": []
   },
   "outputs": [
    {
     "data": {
      "text/plain": [
       "2022-10-31    315274.701796\n",
       "2022-11-30    315120.486643\n",
       "2022-12-31    314966.273353\n",
       "2023-01-31    314812.060105\n",
       "2023-02-28    314657.846857\n",
       "2023-03-31    314503.633610\n",
       "Freq: M, Name: mean, dtype: float64"
      ]
     },
     "execution_count": 79,
     "metadata": {},
     "output_type": "execute_result"
    }
   ],
   "source": [
    "# Forecast mean:\n",
    "forecast_df['mean']"
   ]
  },
  {
   "cell_type": "code",
   "execution_count": 80,
   "id": "c84c129f-8065-4b4b-b15d-8fa90f7454a2",
   "metadata": {
    "tags": []
   },
   "outputs": [
    {
     "data": {
      "text/plain": [
       "Timestamp('2022-10-31 00:00:00', freq='M')"
      ]
     },
     "execution_count": 80,
     "metadata": {},
     "output_type": "execute_result"
    }
   ],
   "source": [
    "# Month with Maximum forecasted for next year\n",
    "forecast_df['mean'].idxmax()"
   ]
  },
  {
   "cell_type": "code",
   "execution_count": 81,
   "id": "7f6867ff-0373-44db-922d-177496735752",
   "metadata": {
    "tags": []
   },
   "outputs": [
    {
     "data": {
      "text/plain": [
       "Timestamp('2023-03-31 00:00:00', freq='M')"
      ]
     },
     "execution_count": 81,
     "metadata": {},
     "output_type": "execute_result"
    }
   ],
   "source": [
    "# Month with Minimum next year\n",
    "forecast_df['mean'].idxmin()"
   ]
  },
  {
   "cell_type": "code",
   "execution_count": 82,
   "id": "161cc0b9-ad87-4797-8d50-020cee596360",
   "metadata": {
    "tags": []
   },
   "outputs": [
    {
     "data": {
      "text/plain": [
       "(Timestamp('2022-10-31 00:00:00', freq='M'),\n",
       " Timestamp('2023-03-31 00:00:00', freq='M'))"
      ]
     },
     "execution_count": 82,
     "metadata": {},
     "output_type": "execute_result"
    }
   ],
   "source": [
    "forecast_df.index[0],forecast_df.index[-1]"
   ]
  },
  {
   "cell_type": "code",
   "execution_count": 83,
   "id": "8eeae33d-02a0-40ef-95bb-85f101c842ee",
   "metadata": {
    "tags": []
   },
   "outputs": [
    {
     "data": {
      "text/plain": [
       "315274.7017963432"
      ]
     },
     "execution_count": 83,
     "metadata": {},
     "output_type": "execute_result"
    }
   ],
   "source": [
    "# Define the starting value\n",
    "starting_value = forecast_df['mean'].iloc[0]\n",
    "starting_value"
   ]
  },
  {
   "cell_type": "code",
   "execution_count": 84,
   "id": "dc4353da-a82a-445d-9d5b-78906a370f74",
   "metadata": {
    "tags": []
   },
   "outputs": [
    {
     "data": {
      "text/plain": [
       "314503.6336097364"
      ]
     },
     "execution_count": 84,
     "metadata": {},
     "output_type": "execute_result"
    }
   ],
   "source": [
    "final_value = forecast_df['mean'].iloc[-1]\n",
    "final_value"
   ]
  },
  {
   "cell_type": "code",
   "execution_count": 85,
   "id": "d7ace4ef-5d20-46a0-a0e5-5a83d66aa798",
   "metadata": {
    "tags": []
   },
   "outputs": [
    {
     "data": {
      "text/plain": [
       "-771.0681866068044"
      ]
     },
     "execution_count": 85,
     "metadata": {},
     "output_type": "execute_result"
    }
   ],
   "source": [
    "# Calculating the \n",
    "change = final_value - starting_value\n",
    "change"
   ]
  },
  {
   "cell_type": "code",
   "execution_count": 86,
   "id": "dcd6a011-ba7c-44b1-8335-185cba4b2dd2",
   "metadata": {
    "tags": []
   },
   "outputs": [
    {
     "data": {
      "text/plain": [
       "-0.24457026910611065"
      ]
     },
     "execution_count": 86,
     "metadata": {},
     "output_type": "execute_result"
    }
   ],
   "source": [
    "# The percent change over the 12-month forecast\n",
    "perc_change = (change / starting_value) * 100\n",
    "perc_change"
   ]
  }
 ],
 "metadata": {
  "kernelspec": {
   "display_name": "Python (dojo-env)",
   "language": "python",
   "name": "dojo-env"
  },
  "language_info": {
   "codemirror_mode": {
    "name": "ipython",
    "version": 3
   },
   "file_extension": ".py",
   "mimetype": "text/x-python",
   "name": "python",
   "nbconvert_exporter": "python",
   "pygments_lexer": "ipython3",
   "version": "3.10.10"
  },
  "widgets": {
   "application/vnd.jupyter.widget-state+json": {
    "state": {},
    "version_major": 2,
    "version_minor": 0
   }
  }
 },
 "nbformat": 4,
 "nbformat_minor": 5
}
